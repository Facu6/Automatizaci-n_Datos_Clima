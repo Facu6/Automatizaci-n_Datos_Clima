{
 "cells": [
  {
   "cell_type": "code",
   "execution_count": 1,
   "metadata": {},
   "outputs": [],
   "source": [
    "import mysql.connector\n",
    "from mysql.connector import Error"
   ]
  },
  {
   "cell_type": "code",
   "execution_count": 2,
   "metadata": {},
   "outputs": [],
   "source": [
    "def crear_base_sql(user, password, host, nombre_base_datos, port):\n",
    "    \n",
    "    try:\n",
    "        conexion = mysql.connector.connect(\n",
    "            host = host,\n",
    "            user = user,\n",
    "            password = password\n",
    "        )\n",
    "        \n",
    "        if conexion.is_connected():\n",
    "            print(f'Conexión exitosa.')\n",
    "            \n",
    "            cursor = conexion.cursor()\n",
    "\n",
    "            cursor.execute(f'CREATE DATABASE {nombre_base_datos}')\n",
    "    except Error as e:\n",
    "        print(f'Error al realizar la creación de la base de datos: {e}')\n",
    "        \n",
    "    finally:\n",
    "        \n",
    "        if conexion.is_connected():\n",
    "            cursor.close()\n",
    "            conexion.close()\n",
    "            print('Conexión a MySQL cerrada.')"
   ]
  },
  {
   "cell_type": "code",
   "execution_count": 3,
   "metadata": {},
   "outputs": [
    {
     "ename": "",
     "evalue": "",
     "output_type": "error",
     "traceback": [
      "\u001b[1;31mEl kernel se bloqueó al ejecutar código en la celda actual o en una celda anterior. \n",
      "\u001b[1;31mRevise el código de las celdas para identificar una posible causa del error. \n",
      "\u001b[1;31mHaga clic <a href='https://aka.ms/vscodeJupyterKernelCrash'>aquí</a> para obtener más información. \n",
      "\u001b[1;31mVea Jupyter <a href='command:jupyter.viewOutput'>log</a> para obtener más detalles."
     ]
    }
   ],
   "source": [
    "'''\n",
    "connectionName = Proyecto_Clima\n",
    "username = root\n",
    "password = Lisandrotorre478\n",
    "'''\n",
    "crear_base_sql(\n",
    "    host = 'localhost',\n",
    "    user = 'root',\n",
    "    password = 'Lisandrotorre478-',\n",
    "    nombre_base_datos = 'ProyectoClima'\n",
    ")"
   ]
  },
  {
   "cell_type": "code",
   "execution_count": 6,
   "metadata": {},
   "outputs": [
    {
     "name": "stdout",
     "output_type": "stream",
     "text": [
      "Intentando conexión a MySQL...\n",
      "Conexión exitosa\n",
      "Tabla creada exitosamente.\n",
      "Conexión cerrada con éxito.\n"
     ]
    }
   ],
   "source": [
    "import pymysql\n",
    "\n",
    "print(\"Intentando conexión a MySQL...\")\n",
    "\n",
    "try:\n",
    "    conexion = pymysql.connect(user='root', password='Lisandrotorre478-',\n",
    "                                        host= 'localhost',   \n",
    "                                        database = 'proyecto_clima',\n",
    "                                        port = 3306)\n",
    "    print(\"Conexión exitosa\")\n",
    "    \n",
    "    cursor = conexion.cursor()\n",
    "    tabla_query = '''\n",
    "    CREATE TABLE IF NOT EXISTS clima_horas (\n",
    "        id INT AUTO_INCREMENT PRIMARY KEY,\n",
    "        resolvedAddres VARCHAR(255),\n",
    "        latitude FLOAT,\n",
    "        longitude FLOAT,\n",
    "        day DATE, \n",
    "        timezone VARCHAR(255),\n",
    "        datetime TIME,\n",
    "        tzoffset TINYINT,\n",
    "        stations VARCHAR(10),\n",
    "        cloudcover TINYINT,\n",
    "        conditions VARCHAR(200),\n",
    "        datetimeEpoch BIGINT,\n",
    "        dew FLOAT,\n",
    "        feelslike FLOAT,\n",
    "        humidity FLOAT, \n",
    "        icon VARCHAR(250),\n",
    "        precip VARCHAR(250),\n",
    "        preipProb FLOAT,\n",
    "        pressure FLOAT, \n",
    "        severerisk FLOAT,\n",
    "        snow FLOAT, \n",
    "        snowDepth FLOAT,\n",
    "        solarEnergy FLOAT,\n",
    "        solarRadiation FLOAT,\n",
    "        source FLOAT, \n",
    "        temp VARCHAR(50),\n",
    "        uvindex FLOAT,\n",
    "        visibility FLOAT, \n",
    "        windDir FLOAT,\n",
    "        windGust FLOAT,\n",
    "        windSpeed FLOAT,\n",
    "        precipType FLOAT\n",
    "        );\n",
    "        '''\n",
    "    \n",
    "    cursor.execute(tabla_query)\n",
    "    print('Tabla creada exitosamente.')    \n",
    "    \n",
    "except Exception as e:\n",
    "    print(f\"Error en la conexión: {e}\")\n",
    "    \n",
    "finally:\n",
    "    conexion.close()\n",
    "    print('Conexión cerrada con éxito.')"
   ]
  },
  {
   "cell_type": "markdown",
   "metadata": {},
   "source": [
    "### CONEXIÓN CON PYSPARK A MYSQL"
   ]
  },
  {
   "cell_type": "code",
   "execution_count": 8,
   "metadata": {},
   "outputs": [],
   "source": [
    "jdbc_hostname = 'localhost'\n",
    "jdbc_port = 3306\n",
    "database = 'proyecto_clima'\n",
    "jdbc_url = f'jdbc:mysql://{jdbc_hostname}:{jdbc_port}/{database}'\n",
    "\n",
    "connection_properties = {\n",
    "    'user' : 'root',\n",
    "    'password' : 'Lisandrotorre478-',\n",
    "    'driver' : 'com.mysql.cj.jdbc.Driver'\n",
    "}"
   ]
  }
 ],
 "metadata": {
  "kernelspec": {
   "display_name": "proyecto_venv",
   "language": "python",
   "name": "python3"
  },
  "language_info": {
   "codemirror_mode": {
    "name": "ipython",
    "version": 3
   },
   "file_extension": ".py",
   "mimetype": "text/x-python",
   "name": "python",
   "nbconvert_exporter": "python",
   "pygments_lexer": "ipython3",
   "version": "3.10.2"
  }
 },
 "nbformat": 4,
 "nbformat_minor": 2
}
