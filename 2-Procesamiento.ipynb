{
 "cells": [
  {
   "cell_type": "code",
   "execution_count": 51,
   "metadata": {},
   "outputs": [],
   "source": [
    "from pyspark.sql import SparkSession\n",
    "from pyspark.sql.functions import col, when, lit, explode\n",
    "import os\n",
    "import re"
   ]
  },
  {
   "cell_type": "code",
   "execution_count": 2,
   "metadata": {},
   "outputs": [],
   "source": [
    "# Se crea la sesión de Spark\n",
    "spark = SparkSession.builder \\\n",
    "        .appName('Clima Procesamiento') \\\n",
    "        .getOrCreate()"
   ]
  },
  {
   "cell_type": "code",
   "execution_count": 29,
   "metadata": {},
   "outputs": [],
   "source": [
    "def obtener_ultimo_archivo(directorio, extension = '*.json'):\n",
    "    \n",
    "    '''\n",
    "    Obtiene el archivo más reciente de un directorio con la extensión especificada.\n",
    "\n",
    "    Args:\n",
    "        directorio (str): Ruta del directorio donde buscar los archivos.\n",
    "        extension (str): Extensión de los archivos a buscar (por defecto '*.json').\n",
    "\n",
    "    Returns:\n",
    "        str: Ruta completa del archivo más reciente con la extensión especificada.\n",
    "        '''\n",
    "    \n",
    "    try:\n",
    "        # Obtener la lista de rutas completas de los archivos que coinciden con la extensión\n",
    "        archivos = [os.path.join(directorio, archivo) for archivo in os.listdir(directorio) if archivo.endswith(extension)]\n",
    "        \n",
    "        # Verificar si no hay archivos en la lista\n",
    "        if not archivos:\n",
    "            raise FileNotFoundError('No se encontraron archivos en el directorio especificado.')\n",
    "        \n",
    "        # Obtener el archivo más reciente basado en la fecha de modificación\n",
    "        ultimo_archivo = max(archivos, key = os.path.getmtime)\n",
    "        \n",
    "        # Retorna ruta completa de último archivo\n",
    "        return ultimo_archivo\n",
    "    \n",
    "    except FileNotFoundError as e:\n",
    "        print(f'Error: {e}')\n",
    "        raise\n",
    "    except Exception as e:\n",
    "        print(f'Error inesperado: {e}')\n",
    "        raise\n",
    "\n",
    "data_dir = 'Datos'\n",
    "\n",
    "ultimo_archivo = obtener_ultimo_archivo(data_dir, extension='.json')"
   ]
  },
  {
   "cell_type": "code",
   "execution_count": 72,
   "metadata": {},
   "outputs": [],
   "source": [
    "def procesamiento_datos(ultimo_archivo):\n",
    "    \n",
    "    '''\n",
    "    Esta función procesa un archivo JSON crudo obtenido de datos climáticos y realiza transformaciones para \n",
    "    generar un DataFrame de Spark desanidado, explotando los datos anidados de días y horas, y agregando \n",
    "    información de la ciudad y zona horaria.\n",
    "\n",
    "    Argumentos:\n",
    "        ultimo_archivo (str): Ruta del archivo JSON que contiene los datos climáticos crudos.\n",
    "\n",
    "    Retorna:\n",
    "        DataFrame: Un DataFrame de Spark procesado con datos desanidados, explotados y enriquecidos con \n",
    "        información de la ciudad.\n",
    "    '''\n",
    "    \n",
    "    try:\n",
    "        # Leer el archivo JSON en dataframe de Spark\n",
    "        df = spark.read.json(ultimo_archivo)\n",
    "        \n",
    "        # Explode de la columna \"days\", convirtiendo cada día en una fila separada\n",
    "        df_days_exploded = df.withColumn('day', explode('days')).drop('days')\n",
    "\n",
    "        # Seleccionar y desanidar columnas del nivel \"day\"\n",
    "        df_desanidado_day = df_days_exploded.select(\n",
    "            col(\"day.cloudcover\").alias(\"day_cloudcover\"),\n",
    "            col(\"day.conditions\").alias(\"day_conditions\"),\n",
    "            col(\"day.datetime\").alias(\"day_datetime\"),\n",
    "            col(\"day.datetimeEpoch\").alias(\"day_datetimeEpoch\"),\n",
    "            col(\"day.description\").alias(\"day_description\"),\n",
    "            col(\"day.dew\").alias(\"day_dew\"),\n",
    "            col(\"day.feelslike\").alias(\"day_feelslike\"),\n",
    "            col(\"day.feelslikemax\").alias(\"day_feelslikemax\"),\n",
    "            col(\"day.feelslikemin\").alias(\"day_feelslikemin\"),\n",
    "            col(\"day.hours\").alias(\"day_hours\"), # ARRAY\n",
    "            col(\"day.humidity\").alias(\"day_humidity\"),\n",
    "            col(\"day.icon\").alias(\"day_icon\"),\n",
    "            col(\"day.moonphase\").alias(\"day_moonphase\"),\n",
    "            col(\"day.precip\").alias(\"day_precip\"),\n",
    "            col(\"day.precipcover\").alias(\"day_precipcover\"),\n",
    "            col(\"day.precipprob\").alias(\"day_precipprob\"),\n",
    "            col(\"day.preciptype\").alias(\"day_preciptype\"), # ARRAY\n",
    "            col(\"day.pressure\").alias(\"day_pressure\"),\n",
    "            col(\"day.severerisk\").alias(\"day_severerisk\"),\n",
    "            col(\"day.snow\").alias(\"day_snow\"),\n",
    "            col(\"day.snowdepth\").alias(\"day_snowdepth\"),\n",
    "            col(\"day.solarenergy\").alias(\"day_solarenergy\"),\n",
    "            col(\"day.solarradiation\").alias(\"day_solarradiation\"),\n",
    "            col(\"day.source\").alias(\"day_source\"),\n",
    "            col(\"day.stations\").alias(\"day_stations\"), # ARRAY\n",
    "            col(\"day.sunrise\").alias(\"day_sunrise\"),\n",
    "            col(\"day.sunriseEpoch\").alias(\"day_sunriseEpoch\"),\n",
    "            col(\"day.sunset\").alias(\"day_sunset\"),\n",
    "            col(\"day.sunsetEpoch\").alias(\"day_sunsetEpoch\"),\n",
    "            col(\"day.temp\").alias(\"day_temp\"),\n",
    "            col(\"day.tempmax\").alias(\"day_tempmax\"),\n",
    "            col(\"day.tempmin\").alias(\"day_tempmin\"),\n",
    "            col(\"day.uvindex\").alias(\"day_uvindex\"),\n",
    "            col(\"day.visibility\").alias(\"day_visibility\"),\n",
    "            col(\"day.winddir\").alias(\"day_winddir\"),\n",
    "            col(\"day.windgust\").alias(\"day_windgust\"),\n",
    "            col(\"day.windspeed\").alias(\"day_windspeed\")\n",
    "        )\n",
    "        \n",
    "        # Explode de la columna \"day_hours\", creando filas separadas para cada hora\n",
    "        df_Day = df_desanidado_day.withColumn('day_hour', explode('day_hours')).drop('day_hours')\n",
    "\n",
    "        # Desanidar columnas del nivel \"hour\" (hora)\n",
    "        df_DayHour = df_Day.select(\n",
    "            col('day_hour.cloudcover').alias('dayHour_cloudcover'),\n",
    "            col('day_hour.conditions').alias('dayHour_conditions'),\n",
    "            col('day_hour.datetime').alias('dayHour_datetime'),\n",
    "            col('day_hour.datetimeEpoch').alias('dayHour_datetimeEpoch'),\n",
    "            col('day_hour.dew').alias('dayHour_dew'),\n",
    "            col('day_hour.feelslike').alias('dayHour_feelslike'),\n",
    "            col('day_hour.humidity').alias('dayHour_humidity'),\n",
    "            col('day_hour.icon').alias('dayHour_icon'),\n",
    "            col('day_hour.precip').alias('dayHour_precip'),\n",
    "            col('day_hour.precipprob').alias('dayHour_precipprob'),\n",
    "            col('day_hour.preciptype').alias('dayHour_preciptype'),\n",
    "            col('day_hour.pressure').alias('dayHour_pressure'),\n",
    "            col('day_hour.severerisk').alias('dayHour_severerisk'),\n",
    "            col('day_hour.snow').alias('dayHour_snow'),\n",
    "            col('day_hour.snowdepth').alias('dayHour_snowdepth'),\n",
    "            col('day_hour.solarenergy').alias('dayHour_solarenergy'),\n",
    "            col('day_hour.solarradiation').alias('dayHour_solarradiation'),\n",
    "            col('day_hour.source').alias('dayHour_source'),\n",
    "            col('day_hour.stations').alias('dayHour_stations'),\n",
    "            col('day_hour.temp').alias('dayHour_temp'),\n",
    "            col('day_hour.uvindex').alias('dayHour_uvindex'),\n",
    "            col('day_hour.visibility').alias('dayHour_visibility'),\n",
    "            col('day_hour.winddir').alias('dayHour_winddir'),\n",
    "            col('day_hour.windgust').alias('dayHour_windgust'),\n",
    "            col('day_hour.windspeed').alias('dayHour_windspeed')\n",
    "        )\n",
    "        \n",
    "        # Reemplazo de valores NULL en 'dayHour_preciptype' con el valor 'Sin Dato'\n",
    "        df_DayHour_filled = (\n",
    "            df_DayHour\n",
    "            .withColumn(\n",
    "                'dayHour_preciptype', when(\n",
    "                    col('dayHour_preciptype').isNull(),\n",
    "                    lit(['Sin Dato'])\n",
    "                ).otherwise(col('dayHour_preciptype'))\n",
    "        ))\n",
    "\n",
    "        # Explode de las columnas 'dayHour_preciptype' y 'dayHour_stations'\n",
    "        df_explode_DayHour = (\n",
    "            df_DayHour_filled\n",
    "            .withColumn('dayHour_preciptype_explode', explode('dayHour_preciptype'))\n",
    "            .withColumn('dayHour_stations_explode', explode('dayHour_stations'))\n",
    "            .drop('dayHour_preciptype', 'dayHour_stations')\n",
    "        )\n",
    "        \n",
    "        # Extraer la fecha del nombre del archivo\n",
    "        fecha_extraida = re.search(r'\\d{4}-\\d{2}-\\d{2}', ultimo_archivo).group(0)\n",
    "\n",
    "        # Agregar la columna 'day_datetime' al DataFrame basado en la fecha extraída\n",
    "        df_explode_DayHour = df_explode_DayHour.withColumn('day_datetime', lit(fecha_extraida))\n",
    "        \n",
    "        # Obtener información constante de la ciudad del DataFrame original\n",
    "        datos_ciudad = df.select('address', 'description', 'latitude', 'longitude', 'resolvedAddress', 'timezone', 'tzoffset').first()\n",
    "\n",
    "        # Añadir columnas constantes de la ciudad al DataFrame final\n",
    "        df_explode_DayHour = (\n",
    "            df_explode_DayHour\n",
    "            .withColumn('address', lit(datos_ciudad['address']))\n",
    "            .withColumn('description', lit(datos_ciudad['description']))\n",
    "            .withColumn('latitude', lit(datos_ciudad['latitude']))\n",
    "            .withColumn('longitude', lit(datos_ciudad['longitude']))\n",
    "            .withColumn('resolvedAddress', lit(datos_ciudad['resolvedAddress']))\n",
    "            .withColumn('timezone', lit(datos_ciudad['timezone']))\n",
    "            .withColumn('tzoffset', lit(datos_ciudad['tzoffset']))\n",
    "        )\n",
    "        \n",
    "        # Agregar columna ajustada para la zona horaria Argentina\n",
    "        df_explode_DayHour = df_explode_DayHour.withColumn('tzoffset_Arg', lit(-3.0))\n",
    "        \n",
    "        # Se crea una lista con el nombre del orden deseado de las columnas\n",
    "        columnas_ordenadas = ['resolvedAddress', 'latitude', 'longitude', 'day_datetime', 'timezone', 'dayHour_datetime', 'tzoffset', 'dayHour_stations_explode', \n",
    "                      'dayHour_cloudcover', 'dayHour_conditions', 'dayHour_datetimeEpoch', 'dayHour_dew', 'dayHour_feelslike', 'dayHour_humidity', \n",
    "                      'dayHour_icon', 'dayHour_preciptype_explode', 'dayHour_precip', 'dayHour_precipprob', 'dayHour_pressure', 'dayHour_severerisk', 'dayHour_snow', 'dayHour_snowdepth', 'dayHour_solarenergy',\n",
    "                      'dayHour_solarradiation', 'dayHour_source', 'dayHour_temp', 'dayHour_uvindex', 'dayHour_visibility', 'dayHour_winddir', 'dayHour_windgust', 'dayHour_windspeed']\n",
    "\n",
    "        # Se crea una lista con el nuevo nombre deseado de las columnas\n",
    "        nombres_nuevos = ['resolvedAddress', 'latitude', 'longitude', 'day', 'timezone', 'datetime', 'tzoffset', 'stations', 'cloudcover', 'conditions', 'datetimeEpoch', 'dew', \n",
    "                  'feelsLike', 'humidity', 'icon', 'precip', 'preipProb', 'pressure', 'severerisk', 'snow', 'snowDepth', 'solarEnergy', 'solarRadiation', 'source', 'temp', \n",
    "                  'uvindex', 'visibility', 'windDir', 'windGust', 'windSpeed', 'precipType']\n",
    "\n",
    "        # Se realizar un \"select\" para ordenar las columnas como se especificó en la lista\n",
    "        df_organizado = df_explode_DayHour.select(columnas_ordenadas)\n",
    "        \n",
    "        # Se realiza un for para modificar el antiguo nombre de las columnas por el nuevo\n",
    "        df_renombrado_columnas = df_organizado.select(\n",
    "        [col(nombre_antiguo).alias(nombre_nuevo) for nombre_antiguo, nombre_nuevo in zip(df_organizado.columns, nombres_nuevos)])\n",
    "        \n",
    "        # Retornar el DataFrame procesado\n",
    "        return df_renombrado_columnas\n",
    "    \n",
    "    except FileNotFoundError:\n",
    "        print(f'Error: el archivo {ultimo_archivo} no existe.')\n",
    "        raise\n",
    "    except ValueError:\n",
    "        print('Error: los datos no están en el formato esperado.')\n",
    "        raise\n",
    "    except pyspark.sql.utils.AnalysisException as e:\n",
    "        print(f'Error en operaciones de Spark: {e}')\n",
    "        raise\n",
    "    except Exception as e:\n",
    "        print(f'Error: {e}')\n",
    "        raise"
   ]
  },
  {
   "cell_type": "code",
   "execution_count": 73,
   "metadata": {},
   "outputs": [],
   "source": [
    "df_procesado = procesamiento_datos(ultimo_archivo)"
   ]
  },
  {
   "cell_type": "code",
   "execution_count": 74,
   "metadata": {},
   "outputs": [
    {
     "name": "stdout",
     "output_type": "stream",
     "text": [
      "+---------------+--------+---------+----------+-----------+--------+--------+--------+----------+----------------+-------------+----+---------+--------+-------------------+--------+---------+--------+----------+----+---------+-----------+--------------+------+----+-------+----------+-------+--------+---------+----------+\n",
      "|resolvedAddress|latitude|longitude|       day|   timezone|datetime|tzoffset|stations|cloudcover|      conditions|datetimeEpoch| dew|feelsLike|humidity|               icon|  precip|preipProb|pressure|severerisk|snow|snowDepth|solarEnergy|solarRadiation|source|temp|uvindex|visibility|windDir|windGust|windSpeed|precipType|\n",
      "+---------------+--------+---------+----------+-----------+--------+--------+--------+----------+----------------+-------------+----+---------+--------+-------------------+--------+---------+--------+----------+----+---------+-----------+--------------+------+----+-------+----------+-------+--------+---------+----------+\n",
      "|Sicilia, Italia| 38.1221|  13.3611|2025-01-20|Europe/Rome|00:00:00|     1.0|   C6242|      25.0|Partially cloudy|   1737327600|44.8|     58.3|   60.75|partly-cloudy-night|Sin Dato|      0.0|     0.0|    1020.0|10.0|      0.0|        0.0|           0.0|   0.0| obs|   58.3|       0.0|    6.2|   138.0|     15.0|       5.8|\n",
      "|Sicilia, Italia| 38.1221|  13.3611|2025-01-20|Europe/Rome|00:00:00|     1.0|    LICJ|      25.0|Partially cloudy|   1737327600|44.8|     58.3|   60.75|partly-cloudy-night|Sin Dato|      0.0|     0.0|    1020.0|10.0|      0.0|        0.0|           0.0|   0.0| obs|   58.3|       0.0|    6.2|   138.0|     15.0|       5.8|\n",
      "|Sicilia, Italia| 38.1221|  13.3611|2025-01-20|Europe/Rome|00:00:00|     1.0|    LICT|      25.0|Partially cloudy|   1737327600|44.8|     58.3|   60.75|partly-cloudy-night|Sin Dato|      0.0|     0.0|    1020.0|10.0|      0.0|        0.0|           0.0|   0.0| obs|   58.3|       0.0|    6.2|   138.0|     15.0|       5.8|\n",
      "|Sicilia, Italia| 38.1221|  13.3611|2025-01-20|Europe/Rome|01:00:00|     1.0|   C6242|      25.0|Partially cloudy|   1737331200|44.8|     58.3|   60.75|partly-cloudy-night|Sin Dato|      0.0|     0.0|    1019.9|10.0|      0.0|        0.0|           0.0|   0.0| obs|   58.3|       0.0|    6.2|   130.0|     13.4|       2.4|\n",
      "|Sicilia, Italia| 38.1221|  13.3611|2025-01-20|Europe/Rome|01:00:00|     1.0|    LICJ|      25.0|Partially cloudy|   1737331200|44.8|     58.3|   60.75|partly-cloudy-night|Sin Dato|      0.0|     0.0|    1019.9|10.0|      0.0|        0.0|           0.0|   0.0| obs|   58.3|       0.0|    6.2|   130.0|     13.4|       2.4|\n",
      "+---------------+--------+---------+----------+-----------+--------+--------+--------+----------+----------------+-------------+----+---------+--------+-------------------+--------+---------+--------+----------+----+---------+-----------+--------------+------+----+-------+----------+-------+--------+---------+----------+\n",
      "only showing top 5 rows\n",
      "\n"
     ]
    }
   ],
   "source": [
    "df_procesado.show(5)"
   ]
  },
  {
   "cell_type": "markdown",
   "metadata": {},
   "source": [
    "### PROCESAMIENTO DE DATOS "
   ]
  },
  {
   "cell_type": "code",
   "execution_count": 16,
   "metadata": {},
   "outputs": [
    {
     "name": "stdout",
     "output_type": "stream",
     "text": [
      "+----------+----------------+--------+-------------+----+---------+--------+-------------------+---------+------+----------+----------+--------+----+---------+-----------+--------------+------+--------+------------+--------+-----------+----+-------+----------+-------+--------+---------+-------+\n",
      "|cloudcover|      conditions|datetime|datetimeEpoch| dew|feelslike|humidity|               icon|moonphase|precip|precipprob|preciptype|pressure|snow|snowdepth|solarenergy|solarradiation|source| sunrise|sunriseEpoch|  sunset|sunsetEpoch|temp|uvindex|visibility|winddir|windgust|windspeed|station|\n",
      "+----------+----------------+--------+-------------+----+---------+--------+-------------------+---------+------+----------+----------+--------+----+---------+-----------+--------------+------+--------+------------+--------+-----------+----+-------+----------+-------+--------+---------+-------+\n",
      "|      31.1|Partially cloudy|19:20:00|   1737397200|49.2|     52.0|    90.2|partly-cloudy-night|     0.71|   0.0|       0.0|      NULL|  1021.0| 0.0|      0.0|        0.0|           0.0|   obs|07:19:35|  1737353975|17:16:08| 1737389768|52.0|    0.0|       6.2|  176.0|     3.5|      6.4|  C6242|\n",
      "|      31.1|Partially cloudy|19:20:00|   1737397200|49.2|     52.0|    90.2|partly-cloudy-night|     0.71|   0.0|       0.0|      NULL|  1021.0| 0.0|      0.0|        0.0|           0.0|   obs|07:19:35|  1737353975|17:16:08| 1737389768|52.0|    0.0|       6.2|  176.0|     3.5|      6.4|   LICJ|\n",
      "|      31.1|Partially cloudy|19:20:00|   1737397200|49.2|     52.0|    90.2|partly-cloudy-night|     0.71|   0.0|       0.0|      NULL|  1021.0| 0.0|      0.0|        0.0|           0.0|   obs|07:19:35|  1737353975|17:16:08| 1737389768|52.0|    0.0|       6.2|  176.0|     3.5|      6.4|  D2770|\n",
      "+----------+----------------+--------+-------------+----+---------+--------+-------------------+---------+------+----------+----------+--------+----+---------+-----------+--------------+------+--------+------------+--------+-----------+----+-------+----------+-------+--------+---------+-------+\n",
      "\n"
     ]
    }
   ],
   "source": [
    "from pyspark.sql.functions import col\n",
    "from pyspark.sql.functions import explode\n",
    "\n",
    "# Desanidamiento de columna \"currentConditions\" y asignación de nuevos alias\n",
    "df_desanidado_currentConditions = df.select(\n",
    "    col('currentConditions.cloudcover').alias('cloudcover'),\n",
    "    col('currentConditions.conditions').alias('conditions'),\n",
    "    col('currentConditions.datetime').alias('datetime'),\n",
    "    col('currentConditions.datetimeEpoch').alias('datetimeEpoch'),\n",
    "    col('currentConditions.dew').alias('dew'),\n",
    "    col('currentConditions.feelslike').alias('feelslike'),\n",
    "    col('currentConditions.humidity').alias('humidity'),\n",
    "    col('currentConditions.icon').alias('icon'),\n",
    "    col('currentConditions.moonphase').alias('moonphase'),\n",
    "    col('currentConditions.precip').alias('precip'),\n",
    "    col('currentConditions.precipprob').alias('precipprob'),\n",
    "    col('currentConditions.preciptype').alias('preciptype'),\n",
    "    col('currentConditions.pressure').alias('pressure'),\n",
    "    col('currentConditions.snow').alias('snow'),\n",
    "    col('currentConditions.snowdepth').alias('snowdepth'),\n",
    "    col('currentConditions.solarenergy').alias('solarenergy'),\n",
    "    col('currentConditions.solarradiation').alias('solarradiation'),\n",
    "    col('currentConditions.source').alias('source'),\n",
    "    col('currentConditions.stations').alias('stations'),\n",
    "    col('currentConditions.sunrise').alias('sunrise'),\n",
    "    col('currentConditions.sunriseEpoch').alias('sunriseEpoch'),\n",
    "    col('currentConditions.sunset').alias('sunset'),\n",
    "    col('currentConditions.sunsetEpoch').alias('sunsetEpoch'),\n",
    "    col('currentConditions.temp').alias('temp'),\n",
    "    col('currentConditions.uvindex').alias('uvindex'),\n",
    "    col('currentConditions.visibility').alias('visibility'),\n",
    "    col('currentConditions.winddir').alias('winddir'),\n",
    "    col('currentConditions.windgust').alias('windgust'),\n",
    "    col('currentConditions.windspeed').alias('windspeed') \n",
    ")\n",
    "\n",
    "# Explode de columna \"stations\" (la cual se encuentra dentro de \"currenConditions\")\n",
    "df_final_currentConditions = df_desanidado_currentConditions.withColumn('station', explode('stations')).drop('stations')\n",
    "df_final_currentConditions.show()"
   ]
  },
  {
   "cell_type": "code",
   "execution_count": 15,
   "metadata": {},
   "outputs": [
    {
     "name": "stdout",
     "output_type": "stream",
     "text": [
      "+-------+--------------------+--------------------+--------------------+--------+---------+---------+---------------+--------------------+-----------+--------+--------------------+\n",
      "|address|              alerts|   currentConditions|         description|latitude|longitude|queryCost|resolvedAddress|            stations|   timezone|tzoffset|                 day|\n",
      "+-------+--------------------+--------------------+--------------------+--------+---------+---------+---------------+--------------------+-----------+--------+--------------------+\n",
      "|Sicilia|[{No Special Awar...|{31.1, Partially ...|Similar temperatu...| 38.1221|  13.3611|        1|Sicilia, Italia|{{0.0, 54398.0, C...|Europe/Rome|     1.0|{31.7, Partially ...|\n",
      "+-------+--------------------+--------------------+--------------------+--------+---------+---------+---------------+--------------------+-----------+--------+--------------------+\n",
      "\n"
     ]
    }
   ],
   "source": [
    "# Explode de columna \"days\"\n",
    "df_days_exploded = df.withColumn('day', explode('days')).drop('days')\n",
    "df_days_exploded.show()"
   ]
  },
  {
   "cell_type": "code",
   "execution_count": 21,
   "metadata": {},
   "outputs": [
    {
     "name": "stdout",
     "output_type": "stream",
     "text": [
      "+--------------+----------------+------------+-----------------+--------------------+-------+-------------+----------------+----------------+------------+-----------------+-------------+----------+---------------+--------------+--------------+------------+--------------+--------+-------------+---------------+------------------+----------+-------------------+-----------+----------------+----------+---------------+--------+-----------+-----------+-----------+--------------+-----------+------------+-------------+--------------------+\n",
      "|day_cloudcover|  day_conditions|day_datetime|day_datetimeEpoch|     day_description|day_dew|day_feelslike|day_feelslikemax|day_feelslikemin|day_humidity|         day_icon|day_moonphase|day_precip|day_precipcover|day_precipprob|day_preciptype|day_pressure|day_severerisk|day_snow|day_snowdepth|day_solarenergy|day_solarradiation|day_source|       day_stations|day_sunrise|day_sunriseEpoch|day_sunset|day_sunsetEpoch|day_temp|day_tempmax|day_tempmin|day_uvindex|day_visibility|day_winddir|day_windgust|day_windspeed|            day_hour|\n",
      "+--------------+----------------+------------+-----------------+--------------------+-------+-------------+----------------+----------------+------------+-----------------+-------------+----------+---------------+--------------+--------------+------------+--------------+--------+-------------+---------------+------------------+----------+-------------------+-----------+----------------+----------+---------------+--------+-----------+-----------+-----------+--------------+-----------+------------+-------------+--------------------+\n",
      "|          31.7|Partially cloudy|  2025-01-20|       1737327600|Partly cloudy thr...|   48.2|         55.7|            60.7|            46.3|        75.8|partly-cloudy-day|         0.71|       0.0|            0.0|           0.0|        [rain]|      1020.2|          10.0|     0.0|          0.0|            7.2|              83.3|      comb|[C6242, LICJ, LICT]|   07:19:35|      1737353975|  17:16:08|     1737389768|    56.0|       60.7|       48.1|        4.0|           7.7|      211.8|        15.0|         10.6|{25.0, Partially ...|\n",
      "|          31.7|Partially cloudy|  2025-01-20|       1737327600|Partly cloudy thr...|   48.2|         55.7|            60.7|            46.3|        75.8|partly-cloudy-day|         0.71|       0.0|            0.0|           0.0|        [rain]|      1020.2|          10.0|     0.0|          0.0|            7.2|              83.3|      comb|[C6242, LICJ, LICT]|   07:19:35|      1737353975|  17:16:08|     1737389768|    56.0|       60.7|       48.1|        4.0|           7.7|      211.8|        15.0|         10.6|{25.0, Partially ...|\n",
      "|          31.7|Partially cloudy|  2025-01-20|       1737327600|Partly cloudy thr...|   48.2|         55.7|            60.7|            46.3|        75.8|partly-cloudy-day|         0.71|       0.0|            0.0|           0.0|        [rain]|      1020.2|          10.0|     0.0|          0.0|            7.2|              83.3|      comb|[C6242, LICJ, LICT]|   07:19:35|      1737353975|  17:16:08|     1737389768|    56.0|       60.7|       48.1|        4.0|           7.7|      211.8|        15.0|         10.6|{25.0, Partially ...|\n",
      "|          31.7|Partially cloudy|  2025-01-20|       1737327600|Partly cloudy thr...|   48.2|         55.7|            60.7|            46.3|        75.8|partly-cloudy-day|         0.71|       0.0|            0.0|           0.0|        [rain]|      1020.2|          10.0|     0.0|          0.0|            7.2|              83.3|      comb|[C6242, LICJ, LICT]|   07:19:35|      1737353975|  17:16:08|     1737389768|    56.0|       60.7|       48.1|        4.0|           7.7|      211.8|        15.0|         10.6|{25.0, Partially ...|\n",
      "|          31.7|Partially cloudy|  2025-01-20|       1737327600|Partly cloudy thr...|   48.2|         55.7|            60.7|            46.3|        75.8|partly-cloudy-day|         0.71|       0.0|            0.0|           0.0|        [rain]|      1020.2|          10.0|     0.0|          0.0|            7.2|              83.3|      comb|[C6242, LICJ, LICT]|   07:19:35|      1737353975|  17:16:08|     1737389768|    56.0|       60.7|       48.1|        4.0|           7.7|      211.8|        15.0|         10.6|{25.0, Partially ...|\n",
      "+--------------+----------------+------------+-----------------+--------------------+-------+-------------+----------------+----------------+------------+-----------------+-------------+----------+---------------+--------------+--------------+------------+--------------+--------+-------------+---------------+------------------+----------+-------------------+-----------+----------------+----------+---------------+--------+-----------+-----------+-----------+--------------+-----------+------------+-------------+--------------------+\n",
      "only showing top 5 rows\n",
      "\n"
     ]
    }
   ],
   "source": [
    "# Desanidamiento de columna \"days\" (original). \n",
    "df_desanidado_day = df_days_exploded.select(\n",
    "    col(\"day.cloudcover\").alias(\"day_cloudcover\"),\n",
    "    col(\"day.conditions\").alias(\"day_conditions\"),\n",
    "    col(\"day.datetime\").alias(\"day_datetime\"),\n",
    "    col(\"day.datetimeEpoch\").alias(\"day_datetimeEpoch\"),\n",
    "    col(\"day.description\").alias(\"day_description\"),\n",
    "    col(\"day.dew\").alias(\"day_dew\"),\n",
    "    col(\"day.feelslike\").alias(\"day_feelslike\"),\n",
    "    col(\"day.feelslikemax\").alias(\"day_feelslikemax\"),\n",
    "    col(\"day.feelslikemin\").alias(\"day_feelslikemin\"),\n",
    "    col(\"day.hours\").alias(\"day_hours\"), # ARRAY\n",
    "    col(\"day.humidity\").alias(\"day_humidity\"),\n",
    "    col(\"day.icon\").alias(\"day_icon\"),\n",
    "    col(\"day.moonphase\").alias(\"day_moonphase\"),\n",
    "    col(\"day.precip\").alias(\"day_precip\"),\n",
    "    col(\"day.precipcover\").alias(\"day_precipcover\"),\n",
    "    col(\"day.precipprob\").alias(\"day_precipprob\"),\n",
    "    col(\"day.preciptype\").alias(\"day_preciptype\"), # ARRAY\n",
    "    col(\"day.pressure\").alias(\"day_pressure\"),\n",
    "    col(\"day.severerisk\").alias(\"day_severerisk\"),\n",
    "    col(\"day.snow\").alias(\"day_snow\"),\n",
    "    col(\"day.snowdepth\").alias(\"day_snowdepth\"),\n",
    "    col(\"day.solarenergy\").alias(\"day_solarenergy\"),\n",
    "    col(\"day.solarradiation\").alias(\"day_solarradiation\"),\n",
    "    col(\"day.source\").alias(\"day_source\"),\n",
    "    col(\"day.stations\").alias(\"day_stations\"), # ARRAY\n",
    "    col(\"day.sunrise\").alias(\"day_sunrise\"),\n",
    "    col(\"day.sunriseEpoch\").alias(\"day_sunriseEpoch\"),\n",
    "    col(\"day.sunset\").alias(\"day_sunset\"),\n",
    "    col(\"day.sunsetEpoch\").alias(\"day_sunsetEpoch\"),\n",
    "    col(\"day.temp\").alias(\"day_temp\"),\n",
    "    col(\"day.tempmax\").alias(\"day_tempmax\"),\n",
    "    col(\"day.tempmin\").alias(\"day_tempmin\"),\n",
    "    col(\"day.uvindex\").alias(\"day_uvindex\"),\n",
    "    col(\"day.visibility\").alias(\"day_visibility\"),\n",
    "    col(\"day.winddir\").alias(\"day_winddir\"),\n",
    "    col(\"day.windgust\").alias(\"day_windgust\"),\n",
    "    col(\"day.windspeed\").alias(\"day_windspeed\")\n",
    ")\n",
    "\n",
    "df_Day = df_desanidado_day.withColumn('day_hour', explode('day_hours')).drop('day_hours')\n",
    "df_Day.show(5)\n",
    " "
   ]
  },
  {
   "cell_type": "code",
   "execution_count": 24,
   "metadata": {},
   "outputs": [
    {
     "name": "stdout",
     "output_type": "stream",
     "text": [
      "+------------------+------------------+----------------+---------------------+-----------+-----------------+----------------+-------------------+--------------+------------------+------------------+----------------+------------------+------------+-----------------+-------------------+----------------------+--------------+-------------------+------------+---------------+------------------+---------------+----------------+-----------------+\n",
      "|dayHour_cloudcover|dayHour_conditions|dayHour_datetime|dayHour_datetimeEpoch|dayHour_dew|dayHour_feelslike|dayHour_humidity|       dayHour_icon|dayHour_precip|dayHour_precipprob|dayHour_preciptype|dayHour_pressure|dayHour_severerisk|dayHour_snow|dayHour_snowdepth|dayHour_solarenergy|dayHour_solarradiation|dayHour_source|   dayHour_stations|dayHour_temp|dayHour_uvindex|dayHour_visibility|dayHour_winddir|dayHour_windgust|dayHour_windspeed|\n",
      "+------------------+------------------+----------------+---------------------+-----------+-----------------+----------------+-------------------+--------------+------------------+------------------+----------------+------------------+------------+-----------------+-------------------+----------------------+--------------+-------------------+------------+---------------+------------------+---------------+----------------+-----------------+\n",
      "|              25.0|  Partially cloudy|        00:00:00|           1737327600|       44.8|             58.3|           60.75|partly-cloudy-night|           0.0|               0.0|              NULL|          1020.0|              10.0|         0.0|              0.0|                0.0|                   0.0|           obs|[C6242, LICJ, LICT]|        58.3|            0.0|               6.2|          138.0|            15.0|              5.8|\n",
      "|              25.0|  Partially cloudy|        01:00:00|           1737331200|       44.8|             58.3|           60.75|partly-cloudy-night|           0.0|               0.0|              NULL|          1019.9|              10.0|         0.0|              0.0|                0.0|                   0.0|           obs|[C6242, LICJ, LICT]|        58.3|            0.0|               6.2|          130.0|            13.4|              2.4|\n",
      "|              25.0|  Partially cloudy|        02:00:00|           1737334800|       44.8|             58.2|           61.07|partly-cloudy-night|           0.0|               0.0|              NULL|          1019.9|              10.0|         0.0|              0.0|                0.0|                   0.0|           obs|[C6242, LICJ, LICT]|        58.2|            0.0|               6.2|          176.0|            14.5|              8.0|\n",
      "|              25.0|  Partially cloudy|        03:00:00|           1737338400|       48.1|             56.5|           73.41|partly-cloudy-night|           0.0|               0.0|              NULL|          1019.9|              10.0|         0.0|              0.0|                0.0|                   0.0|           obs|[C6242, LICJ, LICT]|        56.5|            0.0|               6.2|          222.0|            14.8|              8.0|\n",
      "|              25.0|  Partially cloudy|        04:00:00|           1737342000|       48.1|             54.9|           77.94|partly-cloudy-night|           0.0|               0.0|              NULL|          1019.0|              10.0|         0.0|              0.0|                0.0|                   0.0|           obs|[C6242, LICJ, LICT]|        54.9|            0.0|               6.2|          203.0|            13.6|             10.1|\n",
      "+------------------+------------------+----------------+---------------------+-----------+-----------------+----------------+-------------------+--------------+------------------+------------------+----------------+------------------+------------+-----------------+-------------------+----------------------+--------------+-------------------+------------+---------------+------------------+---------------+----------------+-----------------+\n",
      "only showing top 5 rows\n",
      "\n"
     ]
    }
   ],
   "source": [
    "df_DayHour = df_Day.select(\n",
    "    col('day_hour.cloudcover').alias('dayHour_cloudcover'),\n",
    "    col('day_hour.conditions').alias('dayHour_conditions'),\n",
    "    col('day_hour.datetime').alias('dayHour_datetime'),\n",
    "    col('day_hour.datetimeEpoch').alias('dayHour_datetimeEpoch'),\n",
    "    col('day_hour.dew').alias('dayHour_dew'),\n",
    "    col('day_hour.feelslike').alias('dayHour_feelslike'),\n",
    "    col('day_hour.humidity').alias('dayHour_humidity'),\n",
    "    col('day_hour.icon').alias('dayHour_icon'),\n",
    "    col('day_hour.precip').alias('dayHour_precip'),\n",
    "    col('day_hour.precipprob').alias('dayHour_precipprob'),\n",
    "    col('day_hour.preciptype').alias('dayHour_preciptype'),\n",
    "    col('day_hour.pressure').alias('dayHour_pressure'),\n",
    "    col('day_hour.severerisk').alias('dayHour_severerisk'),\n",
    "    col('day_hour.snow').alias('dayHour_snow'),\n",
    "    col('day_hour.snowdepth').alias('dayHour_snowdepth'),\n",
    "    col('day_hour.solarenergy').alias('dayHour_solarenergy'),\n",
    "    col('day_hour.solarradiation').alias('dayHour_solarradiation'),\n",
    "    col('day_hour.source').alias('dayHour_source'),\n",
    "    col('day_hour.stations').alias('dayHour_stations'),\n",
    "    col('day_hour.temp').alias('dayHour_temp'),\n",
    "    col('day_hour.uvindex').alias('dayHour_uvindex'),\n",
    "    col('day_hour.visibility').alias('dayHour_visibility'),\n",
    "    col('day_hour.winddir').alias('dayHour_winddir'),\n",
    "    col('day_hour.windgust').alias('dayHour_windgust'),\n",
    "    col('day_hour.windspeed').alias('dayHour_windspeed')\n",
    ")\n",
    "df_DayHour.show(5)"
   ]
  },
  {
   "cell_type": "code",
   "execution_count": 25,
   "metadata": {},
   "outputs": [],
   "source": [
    "from pyspark.sql.functions import when, lit\n",
    "\n",
    "# Reemplazo de valores NULL en columna 'dayHour_preciptype' para posterior 'explode'\n",
    "df_DayHour_filled = (\n",
    "    df_DayHour\n",
    "    .withColumn(\n",
    "        'dayHour_preciptype', when(\n",
    "            col('dayHour_preciptype').isNull(),\n",
    "            lit(['Sin Dato'])\n",
    "        ).otherwise(col('dayHour_preciptype'))\n",
    "))\n",
    "\n",
    "# Eexplode para el dataframe \"df_DayHour_filled\"\n",
    "df_explode_DayHour = (\n",
    "    df_DayHour_filled\n",
    "    .withColumn('dayHour_preciptype_explode', explode('dayHour_preciptype'))\n",
    "    .withColumn('dayHour_stations_explode', explode('dayHour_stations'))\n",
    "    .drop('dayHour_preciptype', 'dayHour_stations')\n",
    ")"
   ]
  },
  {
   "cell_type": "code",
   "execution_count": 34,
   "metadata": {},
   "outputs": [],
   "source": [
    "# Extrae la fecha del archivo JSON para agregar al dataframe de \"df_explode_DayHour\"\n",
    "from pyspark.sql.functions import lit\n",
    "import re\n",
    "\n",
    "ruta_archivo = ultimo_archivo\n",
    "\n",
    "fecha_extraida = re.search(r'\\d{4}-\\d{2}-\\d{2}', ruta_archivo).group(0)\n",
    "\n",
    "df_explode_DayHour = df_explode_DayHour.withColumn('day_datetime', lit(fecha_extraida))\n",
    "\n",
    "# APLICAR FUNCIÓN \"OBTENER_ULTIMO_ARCHIVO\" PARA EXTRAER LA FECHA DEL JSON"
   ]
  },
  {
   "cell_type": "code",
   "execution_count": 40,
   "metadata": {},
   "outputs": [
    {
     "name": "stdout",
     "output_type": "stream",
     "text": [
      "+------------------+------------------+----------------+---------------------+-----------+-----------------+----------------+-------------------+--------------+------------------+----------------+------------------+------------+-----------------+-------------------+----------------------+--------------+------------+---------------+------------------+---------------+----------------+-----------------+--------------------------+------------------------+------------+\n",
      "|dayHour_cloudcover|dayHour_conditions|dayHour_datetime|dayHour_datetimeEpoch|dayHour_dew|dayHour_feelslike|dayHour_humidity|       dayHour_icon|dayHour_precip|dayHour_precipprob|dayHour_pressure|dayHour_severerisk|dayHour_snow|dayHour_snowdepth|dayHour_solarenergy|dayHour_solarradiation|dayHour_source|dayHour_temp|dayHour_uvindex|dayHour_visibility|dayHour_winddir|dayHour_windgust|dayHour_windspeed|dayHour_preciptype_explode|dayHour_stations_explode|day_datetime|\n",
      "+------------------+------------------+----------------+---------------------+-----------+-----------------+----------------+-------------------+--------------+------------------+----------------+------------------+------------+-----------------+-------------------+----------------------+--------------+------------+---------------+------------------+---------------+----------------+-----------------+--------------------------+------------------------+------------+\n",
      "|              25.0|  Partially cloudy|        19:00:00|           1737396000|       50.1|             53.7|           87.57|partly-cloudy-night|           0.0|               0.0|          1020.0|              10.0|         0.0|              0.0|                0.0|                   0.0|           obs|        53.7|            0.0|               6.2|          169.0|             8.3|              4.4|                  Sin Dato|                    LICT|  2025-01-20|\n",
      "|              25.0|  Partially cloudy|        19:00:00|           1737396000|       50.1|             53.7|           87.57|partly-cloudy-night|           0.0|               0.0|          1020.0|              10.0|         0.0|              0.0|                0.0|                   0.0|           obs|        53.7|            0.0|               6.2|          169.0|             8.3|              4.4|                  Sin Dato|                   C6242|  2025-01-20|\n",
      "|              25.0|  Partially cloudy|        19:00:00|           1737396000|       50.1|             53.7|           87.57|partly-cloudy-night|           0.0|               0.0|          1020.0|              10.0|         0.0|              0.0|                0.0|                   0.0|           obs|        53.7|            0.0|               6.2|          169.0|             8.3|              4.4|                  Sin Dato|                    LICJ|  2025-01-20|\n",
      "|              50.0|  Partially cloudy|        18:00:00|           1737392400|       50.2|             58.9|           72.83|partly-cloudy-night|           0.0|               0.0|          1020.0|              10.0|         0.0|              0.0|                0.0|                   0.0|           obs|        58.9|            0.0|               6.2|          273.0|             4.5|              7.7|                  Sin Dato|                    LICT|  2025-01-20|\n",
      "|              50.0|  Partially cloudy|        18:00:00|           1737392400|       50.2|             58.9|           72.83|partly-cloudy-night|           0.0|               0.0|          1020.0|              10.0|         0.0|              0.0|                0.0|                   0.0|           obs|        58.9|            0.0|               6.2|          273.0|             4.5|              7.7|                  Sin Dato|                    LICJ|  2025-01-20|\n",
      "+------------------+------------------+----------------+---------------------+-----------+-----------------+----------------+-------------------+--------------+------------------+----------------+------------------+------------+-----------------+-------------------+----------------------+--------------+------------+---------------+------------------+---------------+----------------+-----------------+--------------------------+------------------------+------------+\n",
      "\n"
     ]
    }
   ],
   "source": [
    "df_explode_DayHour.orderBy(col('dayHour_datetime').desc()).limit(5).show()"
   ]
  },
  {
   "cell_type": "code",
   "execution_count": 36,
   "metadata": {},
   "outputs": [
    {
     "name": "stdout",
     "output_type": "stream",
     "text": [
      "+----------+----------------+--------+-------------+----+---------+--------+-------------------+---------+------+----------+----------+--------+----+---------+-----------+--------------+------+--------------------+--------+------------+--------+-----------+----+-------+----------+-------+--------+---------+\n",
      "|cloudcover|      conditions|datetime|datetimeEpoch| dew|feelslike|humidity|               icon|moonphase|precip|precipprob|preciptype|pressure|snow|snowdepth|solarenergy|solarradiation|source|            stations| sunrise|sunriseEpoch|  sunset|sunsetEpoch|temp|uvindex|visibility|winddir|windgust|windspeed|\n",
      "+----------+----------------+--------+-------------+----+---------+--------+-------------------+---------+------+----------+----------+--------+----+---------+-----------+--------------+------+--------------------+--------+------------+--------+-----------+----+-------+----------+-------+--------+---------+\n",
      "|      31.1|Partially cloudy|19:20:00|   1737397200|49.2|     52.0|    90.2|partly-cloudy-night|     0.71|   0.0|       0.0|      NULL|  1021.0| 0.0|      0.0|        0.0|           0.0|   obs|[C6242, LICJ, D2770]|07:19:35|  1737353975|17:16:08| 1737389768|52.0|    0.0|       6.2|  176.0|     3.5|      6.4|\n",
      "+----------+----------------+--------+-------------+----+---------+--------+-------------------+---------+------+----------+----------+--------+----+---------+-----------+--------------+------+--------------------+--------+------------+--------+-----------+----+-------+----------+-------+--------+---------+\n",
      "\n"
     ]
    }
   ],
   "source": [
    "df_desanidado_currentConditions.show(5)"
   ]
  },
  {
   "cell_type": "code",
   "execution_count": 46,
   "metadata": {},
   "outputs": [
    {
     "name": "stdout",
     "output_type": "stream",
     "text": [
      "+------------------+------------------+----------------+---------------------+-----------+-----------------+----------------+-------------------+--------------+------------------+----------------+------------------+------------+-----------------+-------------------+----------------------+--------------+------------+---------------+------------------+---------------+----------------+-----------------+--------------------------+------------------------+------------+-------+--------------------+--------+---------+---------------+-----------+--------+\n",
      "|dayHour_cloudcover|dayHour_conditions|dayHour_datetime|dayHour_datetimeEpoch|dayHour_dew|dayHour_feelslike|dayHour_humidity|       dayHour_icon|dayHour_precip|dayHour_precipprob|dayHour_pressure|dayHour_severerisk|dayHour_snow|dayHour_snowdepth|dayHour_solarenergy|dayHour_solarradiation|dayHour_source|dayHour_temp|dayHour_uvindex|dayHour_visibility|dayHour_winddir|dayHour_windgust|dayHour_windspeed|dayHour_preciptype_explode|dayHour_stations_explode|day_datetime|address|         description|latitude|longitude|resolvedAddress|   timezone|tzoffset|\n",
      "+------------------+------------------+----------------+---------------------+-----------+-----------------+----------------+-------------------+--------------+------------------+----------------+------------------+------------+-----------------+-------------------+----------------------+--------------+------------+---------------+------------------+---------------+----------------+-----------------+--------------------------+------------------------+------------+-------+--------------------+--------+---------+---------------+-----------+--------+\n",
      "|              25.0|  Partially cloudy|        00:00:00|           1737327600|       44.8|             58.3|           60.75|partly-cloudy-night|           0.0|               0.0|          1020.0|              10.0|         0.0|              0.0|                0.0|                   0.0|           obs|        58.3|            0.0|               6.2|          138.0|            15.0|              5.8|                  Sin Dato|                   C6242|  2025-01-20|Sicilia|Similar temperatu...| 38.1221|  13.3611|Sicilia, Italia|Europe/Rome|     1.0|\n",
      "|              25.0|  Partially cloudy|        00:00:00|           1737327600|       44.8|             58.3|           60.75|partly-cloudy-night|           0.0|               0.0|          1020.0|              10.0|         0.0|              0.0|                0.0|                   0.0|           obs|        58.3|            0.0|               6.2|          138.0|            15.0|              5.8|                  Sin Dato|                    LICJ|  2025-01-20|Sicilia|Similar temperatu...| 38.1221|  13.3611|Sicilia, Italia|Europe/Rome|     1.0|\n",
      "|              25.0|  Partially cloudy|        00:00:00|           1737327600|       44.8|             58.3|           60.75|partly-cloudy-night|           0.0|               0.0|          1020.0|              10.0|         0.0|              0.0|                0.0|                   0.0|           obs|        58.3|            0.0|               6.2|          138.0|            15.0|              5.8|                  Sin Dato|                    LICT|  2025-01-20|Sicilia|Similar temperatu...| 38.1221|  13.3611|Sicilia, Italia|Europe/Rome|     1.0|\n",
      "|              25.0|  Partially cloudy|        01:00:00|           1737331200|       44.8|             58.3|           60.75|partly-cloudy-night|           0.0|               0.0|          1019.9|              10.0|         0.0|              0.0|                0.0|                   0.0|           obs|        58.3|            0.0|               6.2|          130.0|            13.4|              2.4|                  Sin Dato|                   C6242|  2025-01-20|Sicilia|Similar temperatu...| 38.1221|  13.3611|Sicilia, Italia|Europe/Rome|     1.0|\n",
      "|              25.0|  Partially cloudy|        01:00:00|           1737331200|       44.8|             58.3|           60.75|partly-cloudy-night|           0.0|               0.0|          1019.9|              10.0|         0.0|              0.0|                0.0|                   0.0|           obs|        58.3|            0.0|               6.2|          130.0|            13.4|              2.4|                  Sin Dato|                    LICJ|  2025-01-20|Sicilia|Similar temperatu...| 38.1221|  13.3611|Sicilia, Italia|Europe/Rome|     1.0|\n",
      "|              25.0|  Partially cloudy|        01:00:00|           1737331200|       44.8|             58.3|           60.75|partly-cloudy-night|           0.0|               0.0|          1019.9|              10.0|         0.0|              0.0|                0.0|                   0.0|           obs|        58.3|            0.0|               6.2|          130.0|            13.4|              2.4|                  Sin Dato|                    LICT|  2025-01-20|Sicilia|Similar temperatu...| 38.1221|  13.3611|Sicilia, Italia|Europe/Rome|     1.0|\n",
      "|              25.0|  Partially cloudy|        02:00:00|           1737334800|       44.8|             58.2|           61.07|partly-cloudy-night|           0.0|               0.0|          1019.9|              10.0|         0.0|              0.0|                0.0|                   0.0|           obs|        58.2|            0.0|               6.2|          176.0|            14.5|              8.0|                  Sin Dato|                   C6242|  2025-01-20|Sicilia|Similar temperatu...| 38.1221|  13.3611|Sicilia, Italia|Europe/Rome|     1.0|\n",
      "|              25.0|  Partially cloudy|        02:00:00|           1737334800|       44.8|             58.2|           61.07|partly-cloudy-night|           0.0|               0.0|          1019.9|              10.0|         0.0|              0.0|                0.0|                   0.0|           obs|        58.2|            0.0|               6.2|          176.0|            14.5|              8.0|                  Sin Dato|                    LICJ|  2025-01-20|Sicilia|Similar temperatu...| 38.1221|  13.3611|Sicilia, Italia|Europe/Rome|     1.0|\n",
      "|              25.0|  Partially cloudy|        02:00:00|           1737334800|       44.8|             58.2|           61.07|partly-cloudy-night|           0.0|               0.0|          1019.9|              10.0|         0.0|              0.0|                0.0|                   0.0|           obs|        58.2|            0.0|               6.2|          176.0|            14.5|              8.0|                  Sin Dato|                    LICT|  2025-01-20|Sicilia|Similar temperatu...| 38.1221|  13.3611|Sicilia, Italia|Europe/Rome|     1.0|\n",
      "|              25.0|  Partially cloudy|        03:00:00|           1737338400|       48.1|             56.5|           73.41|partly-cloudy-night|           0.0|               0.0|          1019.9|              10.0|         0.0|              0.0|                0.0|                   0.0|           obs|        56.5|            0.0|               6.2|          222.0|            14.8|              8.0|                  Sin Dato|                   C6242|  2025-01-20|Sicilia|Similar temperatu...| 38.1221|  13.3611|Sicilia, Italia|Europe/Rome|     1.0|\n",
      "|              25.0|  Partially cloudy|        03:00:00|           1737338400|       48.1|             56.5|           73.41|partly-cloudy-night|           0.0|               0.0|          1019.9|              10.0|         0.0|              0.0|                0.0|                   0.0|           obs|        56.5|            0.0|               6.2|          222.0|            14.8|              8.0|                  Sin Dato|                    LICJ|  2025-01-20|Sicilia|Similar temperatu...| 38.1221|  13.3611|Sicilia, Italia|Europe/Rome|     1.0|\n",
      "|              25.0|  Partially cloudy|        03:00:00|           1737338400|       48.1|             56.5|           73.41|partly-cloudy-night|           0.0|               0.0|          1019.9|              10.0|         0.0|              0.0|                0.0|                   0.0|           obs|        56.5|            0.0|               6.2|          222.0|            14.8|              8.0|                  Sin Dato|                    LICT|  2025-01-20|Sicilia|Similar temperatu...| 38.1221|  13.3611|Sicilia, Italia|Europe/Rome|     1.0|\n",
      "|              25.0|  Partially cloudy|        04:00:00|           1737342000|       48.1|             54.9|           77.94|partly-cloudy-night|           0.0|               0.0|          1019.0|              10.0|         0.0|              0.0|                0.0|                   0.0|           obs|        54.9|            0.0|               6.2|          203.0|            13.6|             10.1|                  Sin Dato|                   C6242|  2025-01-20|Sicilia|Similar temperatu...| 38.1221|  13.3611|Sicilia, Italia|Europe/Rome|     1.0|\n",
      "|              25.0|  Partially cloudy|        04:00:00|           1737342000|       48.1|             54.9|           77.94|partly-cloudy-night|           0.0|               0.0|          1019.0|              10.0|         0.0|              0.0|                0.0|                   0.0|           obs|        54.9|            0.0|               6.2|          203.0|            13.6|             10.1|                  Sin Dato|                    LICJ|  2025-01-20|Sicilia|Similar temperatu...| 38.1221|  13.3611|Sicilia, Italia|Europe/Rome|     1.0|\n",
      "|              25.0|  Partially cloudy|        04:00:00|           1737342000|       48.1|             54.9|           77.94|partly-cloudy-night|           0.0|               0.0|          1019.0|              10.0|         0.0|              0.0|                0.0|                   0.0|           obs|        54.9|            0.0|               6.2|          203.0|            13.6|             10.1|                  Sin Dato|                    LICT|  2025-01-20|Sicilia|Similar temperatu...| 38.1221|  13.3611|Sicilia, Italia|Europe/Rome|     1.0|\n",
      "|              25.0|  Partially cloudy|        05:00:00|           1737345600|       46.5|             56.5|           68.99|partly-cloudy-night|           0.0|               0.0|          1019.0|              10.0|         0.0|              0.0|                0.0|                   0.0|           obs|        56.5|            0.0|               6.2|          168.0|            13.4|             10.1|                  Sin Dato|                   C6242|  2025-01-20|Sicilia|Similar temperatu...| 38.1221|  13.3611|Sicilia, Italia|Europe/Rome|     1.0|\n",
      "|              25.0|  Partially cloudy|        05:00:00|           1737345600|       46.5|             56.5|           68.99|partly-cloudy-night|           0.0|               0.0|          1019.0|              10.0|         0.0|              0.0|                0.0|                   0.0|           obs|        56.5|            0.0|               6.2|          168.0|            13.4|             10.1|                  Sin Dato|                    LICJ|  2025-01-20|Sicilia|Similar temperatu...| 38.1221|  13.3611|Sicilia, Italia|Europe/Rome|     1.0|\n",
      "|              25.0|  Partially cloudy|        05:00:00|           1737345600|       46.5|             56.5|           68.99|partly-cloudy-night|           0.0|               0.0|          1019.0|              10.0|         0.0|              0.0|                0.0|                   0.0|           obs|        56.5|            0.0|               6.2|          168.0|            13.4|             10.1|                  Sin Dato|                    LICT|  2025-01-20|Sicilia|Similar temperatu...| 38.1221|  13.3611|Sicilia, Italia|Europe/Rome|     1.0|\n",
      "|              27.1|  Partially cloudy|        06:00:00|           1737349200|       46.5|             58.2|           65.01|partly-cloudy-night|           0.0|               0.0|          1019.0|              10.0|         0.0|              0.0|                0.0|                   0.0|           obs|        58.2|            0.0|               6.2|          171.0|            13.2|              4.5|                  Sin Dato|                   C6242|  2025-01-20|Sicilia|Similar temperatu...| 38.1221|  13.3611|Sicilia, Italia|Europe/Rome|     1.0|\n",
      "|              27.1|  Partially cloudy|        06:00:00|           1737349200|       46.5|             58.2|           65.01|partly-cloudy-night|           0.0|               0.0|          1019.0|              10.0|         0.0|              0.0|                0.0|                   0.0|           obs|        58.2|            0.0|               6.2|          171.0|            13.2|              4.5|                  Sin Dato|                    LICJ|  2025-01-20|Sicilia|Similar temperatu...| 38.1221|  13.3611|Sicilia, Italia|Europe/Rome|     1.0|\n",
      "+------------------+------------------+----------------+---------------------+-----------+-----------------+----------------+-------------------+--------------+------------------+----------------+------------------+------------+-----------------+-------------------+----------------------+--------------+------------+---------------+------------------+---------------+----------------+-----------------+--------------------------+------------------------+------------+-------+--------------------+--------+---------+---------------+-----------+--------+\n",
      "only showing top 20 rows\n",
      "\n"
     ]
    }
   ],
   "source": [
    "# Se agregan los datos de la ciudad (df) al df de los datos por hora (df_explode_DayHour)\n",
    "datos_ciudad = df.select('address', 'description', 'latitude', 'longitude', 'resolvedAddress', 'timezone', 'tzoffset').first()\n",
    "\n",
    "df_explode_DayHour = (\n",
    "    df_explode_DayHour\n",
    "    .withColumn('address', lit(datos_ciudad['address']))\n",
    "    .withColumn('description', lit(datos_ciudad['description']))\n",
    "    .withColumn('latitude', lit(datos_ciudad['latitude']))\n",
    "    .withColumn('longitude', lit(datos_ciudad['longitude']))\n",
    "    .withColumn('resolvedAddress', lit(datos_ciudad['resolvedAddress']))\n",
    "    .withColumn('timezone', lit(datos_ciudad['timezone']))\n",
    "    .withColumn('tzoffset', lit(datos_ciudad['tzoffset']))\n",
    ")\n",
    "\n",
    "df_explode_DayHour.show()"
   ]
  },
  {
   "cell_type": "code",
   "execution_count": 47,
   "metadata": {},
   "outputs": [],
   "source": [
    "# Se modifica la columna \"tzoffset\" ajustando el valor en -3 (valor el cual, al restarlo a conicide con la hora Argentina en que se tomaron los datos)\n",
    "df_explode_DayHour = df_explode_DayHour.withColumn('tzoffset', lit(-3.0))\n"
   ]
  },
  {
   "cell_type": "code",
   "execution_count": 69,
   "metadata": {},
   "outputs": [
    {
     "name": "stdout",
     "output_type": "stream",
     "text": [
      "+---------------+--------+---------+------------+-----------+----------------+--------+------------------------+------------------+------------------+---------------------+-----------+-----------------+----------------+-------------------+--------------------------+--------------+------------------+----------------+------------------+------------+-----------------+-------------------+----------------------+--------------+------------+---------------+------------------+---------------+----------------+-----------------+\n",
      "|resolvedAddress|latitude|longitude|day_datetime|   timezone|dayHour_datetime|tzoffset|dayHour_stations_explode|dayHour_cloudcover|dayHour_conditions|dayHour_datetimeEpoch|dayHour_dew|dayHour_feelslike|dayHour_humidity|       dayHour_icon|dayHour_preciptype_explode|dayHour_precip|dayHour_precipprob|dayHour_pressure|dayHour_severerisk|dayHour_snow|dayHour_snowdepth|dayHour_solarenergy|dayHour_solarradiation|dayHour_source|dayHour_temp|dayHour_uvindex|dayHour_visibility|dayHour_winddir|dayHour_windgust|dayHour_windspeed|\n",
      "+---------------+--------+---------+------------+-----------+----------------+--------+------------------------+------------------+------------------+---------------------+-----------+-----------------+----------------+-------------------+--------------------------+--------------+------------------+----------------+------------------+------------+-----------------+-------------------+----------------------+--------------+------------+---------------+------------------+---------------+----------------+-----------------+\n",
      "|Sicilia, Italia| 38.1221|  13.3611|  2025-01-20|Europe/Rome|        00:00:00|    -3.0|                   C6242|              25.0|  Partially cloudy|           1737327600|       44.8|             58.3|           60.75|partly-cloudy-night|                  Sin Dato|           0.0|               0.0|          1020.0|              10.0|         0.0|              0.0|                0.0|                   0.0|           obs|        58.3|            0.0|               6.2|          138.0|            15.0|              5.8|\n",
      "|Sicilia, Italia| 38.1221|  13.3611|  2025-01-20|Europe/Rome|        00:00:00|    -3.0|                    LICJ|              25.0|  Partially cloudy|           1737327600|       44.8|             58.3|           60.75|partly-cloudy-night|                  Sin Dato|           0.0|               0.0|          1020.0|              10.0|         0.0|              0.0|                0.0|                   0.0|           obs|        58.3|            0.0|               6.2|          138.0|            15.0|              5.8|\n",
      "|Sicilia, Italia| 38.1221|  13.3611|  2025-01-20|Europe/Rome|        00:00:00|    -3.0|                    LICT|              25.0|  Partially cloudy|           1737327600|       44.8|             58.3|           60.75|partly-cloudy-night|                  Sin Dato|           0.0|               0.0|          1020.0|              10.0|         0.0|              0.0|                0.0|                   0.0|           obs|        58.3|            0.0|               6.2|          138.0|            15.0|              5.8|\n",
      "|Sicilia, Italia| 38.1221|  13.3611|  2025-01-20|Europe/Rome|        01:00:00|    -3.0|                   C6242|              25.0|  Partially cloudy|           1737331200|       44.8|             58.3|           60.75|partly-cloudy-night|                  Sin Dato|           0.0|               0.0|          1019.9|              10.0|         0.0|              0.0|                0.0|                   0.0|           obs|        58.3|            0.0|               6.2|          130.0|            13.4|              2.4|\n",
      "|Sicilia, Italia| 38.1221|  13.3611|  2025-01-20|Europe/Rome|        01:00:00|    -3.0|                    LICJ|              25.0|  Partially cloudy|           1737331200|       44.8|             58.3|           60.75|partly-cloudy-night|                  Sin Dato|           0.0|               0.0|          1019.9|              10.0|         0.0|              0.0|                0.0|                   0.0|           obs|        58.3|            0.0|               6.2|          130.0|            13.4|              2.4|\n",
      "+---------------+--------+---------+------------+-----------+----------------+--------+------------------------+------------------+------------------+---------------------+-----------+-----------------+----------------+-------------------+--------------------------+--------------+------------------+----------------+------------------+------------+-----------------+-------------------+----------------------+--------------+------------+---------------+------------------+---------------+----------------+-----------------+\n",
      "only showing top 5 rows\n",
      "\n"
     ]
    }
   ],
   "source": [
    "columnas_ordenadas = ['resolvedAddress', 'latitude', 'longitude', 'day_datetime', 'timezone', 'dayHour_datetime', 'tzoffset', 'dayHour_stations_explode', \n",
    "                      'dayHour_cloudcover', 'dayHour_conditions', 'dayHour_datetimeEpoch', 'dayHour_dew', 'dayHour_feelslike', 'dayHour_humidity', \n",
    "                      'dayHour_icon', 'dayHour_preciptype_explode', 'dayHour_precip', 'dayHour_precipprob', 'dayHour_pressure', 'dayHour_severerisk', 'dayHour_snow', 'dayHour_snowdepth', 'dayHour_solarenergy',\n",
    "                      'dayHour_solarradiation', 'dayHour_source', 'dayHour_temp', 'dayHour_uvindex', 'dayHour_visibility', 'dayHour_winddir', 'dayHour_windgust', 'dayHour_windspeed']\n",
    "\n",
    "nombres_nuevos = ['resolvedAddress', 'latitude', 'longitude', 'day', 'timezone', 'datetime', 'tzoffset', 'stations', 'cloudcover', 'conditions', 'datetimeEpoch', 'dew', \n",
    "                  'feelsLike', 'humidity', 'icon', 'precip', 'preipProb', 'pressure', 'severerisk', 'snow', 'snowDepth', 'solarEnergy', 'solarRadiation', 'source', 'temp', \n",
    "                  'uvindex', 'visibility', 'windDir', 'windGust', 'windSpeed', 'precipType']\n",
    "\n",
    "df_organizado = df_explode_DayHour.select(columnas_ordenadas)\n",
    "df_organizado.show(5)"
   ]
  },
  {
   "cell_type": "code",
   "execution_count": 67,
   "metadata": {},
   "outputs": [
    {
     "name": "stdout",
     "output_type": "stream",
     "text": [
      "+---------------+--------+---------+------------+-----------+----------------+--------+------------------------+------------------+------------------+---------------------+-----------+-----------------+----------------+-------------------+--------------+------------------+----------------+------------------+------------+-----------------+-------------------+----------------------+--------------+------------+---------------+------------------+---------------+----------------+-----------------+--------------------------+\n",
      "|resolvedAddress|latitude|longitude|day_datetime|   timezone|dayHour_datetime|tzoffset|dayHour_stations_explode|dayHour_cloudcover|dayHour_conditions|dayHour_datetimeEpoch|dayHour_dew|dayHour_feelslike|dayHour_humidity|       dayHour_icon|dayHour_precip|dayHour_precipprob|dayHour_pressure|dayHour_severerisk|dayHour_snow|dayHour_snowdepth|dayHour_solarenergy|dayHour_solarradiation|dayHour_source|dayHour_temp|dayHour_uvindex|dayHour_visibility|dayHour_winddir|dayHour_windgust|dayHour_windspeed|dayHour_preciptype_explode|\n",
      "+---------------+--------+---------+------------+-----------+----------------+--------+------------------------+------------------+------------------+---------------------+-----------+-----------------+----------------+-------------------+--------------+------------------+----------------+------------------+------------+-----------------+-------------------+----------------------+--------------+------------+---------------+------------------+---------------+----------------+-----------------+--------------------------+\n",
      "|Sicilia, Italia| 38.1221|  13.3611|  2025-01-20|Europe/Rome|        00:00:00|    -3.0|                   C6242|              25.0|  Partially cloudy|           1737327600|       44.8|             58.3|           60.75|partly-cloudy-night|           0.0|               0.0|          1020.0|              10.0|         0.0|              0.0|                0.0|                   0.0|           obs|        58.3|            0.0|               6.2|          138.0|            15.0|              5.8|                  Sin Dato|\n",
      "|Sicilia, Italia| 38.1221|  13.3611|  2025-01-20|Europe/Rome|        00:00:00|    -3.0|                    LICJ|              25.0|  Partially cloudy|           1737327600|       44.8|             58.3|           60.75|partly-cloudy-night|           0.0|               0.0|          1020.0|              10.0|         0.0|              0.0|                0.0|                   0.0|           obs|        58.3|            0.0|               6.2|          138.0|            15.0|              5.8|                  Sin Dato|\n",
      "|Sicilia, Italia| 38.1221|  13.3611|  2025-01-20|Europe/Rome|        00:00:00|    -3.0|                    LICT|              25.0|  Partially cloudy|           1737327600|       44.8|             58.3|           60.75|partly-cloudy-night|           0.0|               0.0|          1020.0|              10.0|         0.0|              0.0|                0.0|                   0.0|           obs|        58.3|            0.0|               6.2|          138.0|            15.0|              5.8|                  Sin Dato|\n",
      "|Sicilia, Italia| 38.1221|  13.3611|  2025-01-20|Europe/Rome|        01:00:00|    -3.0|                   C6242|              25.0|  Partially cloudy|           1737331200|       44.8|             58.3|           60.75|partly-cloudy-night|           0.0|               0.0|          1019.9|              10.0|         0.0|              0.0|                0.0|                   0.0|           obs|        58.3|            0.0|               6.2|          130.0|            13.4|              2.4|                  Sin Dato|\n",
      "|Sicilia, Italia| 38.1221|  13.3611|  2025-01-20|Europe/Rome|        01:00:00|    -3.0|                    LICJ|              25.0|  Partially cloudy|           1737331200|       44.8|             58.3|           60.75|partly-cloudy-night|           0.0|               0.0|          1019.9|              10.0|         0.0|              0.0|                0.0|                   0.0|           obs|        58.3|            0.0|               6.2|          130.0|            13.4|              2.4|                  Sin Dato|\n",
      "+---------------+--------+---------+------------+-----------+----------------+--------+------------------------+------------------+------------------+---------------------+-----------+-----------------+----------------+-------------------+--------------+------------------+----------------+------------------+------------+-----------------+-------------------+----------------------+--------------+------------+---------------+------------------+---------------+----------------+-----------------+--------------------------+\n",
      "only showing top 5 rows\n",
      "\n"
     ]
    }
   ],
   "source": [
    "df_organizado.show(5)"
   ]
  },
  {
   "cell_type": "code",
   "execution_count": 70,
   "metadata": {},
   "outputs": [],
   "source": [
    "df_renombrado_columnas = df_organizado.select(\n",
    "    [col(nombre_antiguo).alias(nombre_nuevo) for nombre_antiguo, nombre_nuevo in zip(df_organizado.columns, nombres_nuevos)]\n",
    ")"
   ]
  },
  {
   "cell_type": "code",
   "execution_count": 71,
   "metadata": {},
   "outputs": [
    {
     "name": "stdout",
     "output_type": "stream",
     "text": [
      "+---------------+--------+---------+----------+-----------+--------+--------+--------+----------+----------------+-------------+----+---------+--------+-------------------+--------+---------+--------+----------+----+---------+-----------+--------------+------+----+-------+----------+-------+--------+---------+----------+\n",
      "|resolvedAddress|latitude|longitude|       day|   timezone|datetime|tzoffset|stations|cloudcover|      conditions|datetimeEpoch| dew|feelsLike|humidity|               icon|  precip|preipProb|pressure|severerisk|snow|snowDepth|solarEnergy|solarRadiation|source|temp|uvindex|visibility|windDir|windGust|windSpeed|precipType|\n",
      "+---------------+--------+---------+----------+-----------+--------+--------+--------+----------+----------------+-------------+----+---------+--------+-------------------+--------+---------+--------+----------+----+---------+-----------+--------------+------+----+-------+----------+-------+--------+---------+----------+\n",
      "|Sicilia, Italia| 38.1221|  13.3611|2025-01-20|Europe/Rome|00:00:00|    -3.0|   C6242|      25.0|Partially cloudy|   1737327600|44.8|     58.3|   60.75|partly-cloudy-night|Sin Dato|      0.0|     0.0|    1020.0|10.0|      0.0|        0.0|           0.0|   0.0| obs|   58.3|       0.0|    6.2|   138.0|     15.0|       5.8|\n",
      "|Sicilia, Italia| 38.1221|  13.3611|2025-01-20|Europe/Rome|00:00:00|    -3.0|    LICJ|      25.0|Partially cloudy|   1737327600|44.8|     58.3|   60.75|partly-cloudy-night|Sin Dato|      0.0|     0.0|    1020.0|10.0|      0.0|        0.0|           0.0|   0.0| obs|   58.3|       0.0|    6.2|   138.0|     15.0|       5.8|\n",
      "|Sicilia, Italia| 38.1221|  13.3611|2025-01-20|Europe/Rome|00:00:00|    -3.0|    LICT|      25.0|Partially cloudy|   1737327600|44.8|     58.3|   60.75|partly-cloudy-night|Sin Dato|      0.0|     0.0|    1020.0|10.0|      0.0|        0.0|           0.0|   0.0| obs|   58.3|       0.0|    6.2|   138.0|     15.0|       5.8|\n",
      "|Sicilia, Italia| 38.1221|  13.3611|2025-01-20|Europe/Rome|01:00:00|    -3.0|   C6242|      25.0|Partially cloudy|   1737331200|44.8|     58.3|   60.75|partly-cloudy-night|Sin Dato|      0.0|     0.0|    1019.9|10.0|      0.0|        0.0|           0.0|   0.0| obs|   58.3|       0.0|    6.2|   130.0|     13.4|       2.4|\n",
      "|Sicilia, Italia| 38.1221|  13.3611|2025-01-20|Europe/Rome|01:00:00|    -3.0|    LICJ|      25.0|Partially cloudy|   1737331200|44.8|     58.3|   60.75|partly-cloudy-night|Sin Dato|      0.0|     0.0|    1019.9|10.0|      0.0|        0.0|           0.0|   0.0| obs|   58.3|       0.0|    6.2|   130.0|     13.4|       2.4|\n",
      "+---------------+--------+---------+----------+-----------+--------+--------+--------+----------+----------------+-------------+----+---------+--------+-------------------+--------+---------+--------+----------+----+---------+-----------+--------------+------+----+-------+----------+-------+--------+---------+----------+\n",
      "only showing top 5 rows\n",
      "\n"
     ]
    }
   ],
   "source": [
    "df_renombrado_columnas.show(5)"
   ]
  }
 ],
 "metadata": {
  "kernelspec": {
   "display_name": "proyecto_venv",
   "language": "python",
   "name": "python3"
  },
  "language_info": {
   "codemirror_mode": {
    "name": "ipython",
    "version": 3
   },
   "file_extension": ".py",
   "mimetype": "text/x-python",
   "name": "python",
   "nbconvert_exporter": "python",
   "pygments_lexer": "ipython3",
   "version": "3.10.2"
  }
 },
 "nbformat": 4,
 "nbformat_minor": 2
}
