{
 "cells": [
  {
   "cell_type": "code",
   "execution_count": 52,
   "metadata": {},
   "outputs": [],
   "source": [
    "from pyspark import SparkConf\n",
    "from pyspark.sql import SparkSession\n",
    "from pyspark.sql.functions import col, when, lit, explode\n",
    "import os\n",
    "import re"
   ]
  },
  {
   "cell_type": "code",
   "execution_count": 53,
   "metadata": {},
   "outputs": [],
   "source": [
    "# Se crea la sesión de Spark\n",
    "conf = SparkConf().set(\"spark.hadoop.fs.file.impl\", \"org.apache.hadoop.fs.LocalFileSystem\")\n",
    "spark = SparkSession.builder \\\n",
    "        .config(conf=conf) \\\n",
    "        .appName('Clima Procesamiento') \\\n",
    "        .getOrCreate()"
   ]
  },
  {
   "cell_type": "code",
   "execution_count": 3,
   "metadata": {},
   "outputs": [],
   "source": [
    "def obtener_ultimo_archivo(directorio, extension = '*.json'):\n",
    "    \n",
    "    '''\n",
    "    Obtiene el archivo más reciente de un directorio con la extensión especificada.\n",
    "\n",
    "    Args:\n",
    "        directorio (str): Ruta del directorio donde buscar los archivos.\n",
    "        extension (str): Extensión de los archivos a buscar (por defecto '*.json').\n",
    "\n",
    "    Returns:\n",
    "        str: Ruta completa del archivo más reciente con la extensión especificada.\n",
    "        '''\n",
    "    \n",
    "    try:\n",
    "        # Obtener la lista de rutas completas de los archivos que coinciden con la extensión\n",
    "        archivos = [os.path.join(directorio, archivo) for archivo in os.listdir(directorio) if archivo.endswith(extension)]\n",
    "        \n",
    "        # Verificar si no hay archivos en la lista\n",
    "        if not archivos:\n",
    "            raise FileNotFoundError('No se encontraron archivos en el directorio especificado.')\n",
    "        \n",
    "        # Obtener el archivo más reciente basado en la fecha de modificación\n",
    "        ultimo_archivo = max(archivos, key = os.path.getmtime)\n",
    "        \n",
    "        # Retorna ruta completa de último archivo\n",
    "        return ultimo_archivo\n",
    "    \n",
    "    except FileNotFoundError as e:\n",
    "        print(f'Error: {e}')\n",
    "        raise\n",
    "    except Exception as e:\n",
    "        print(f'Error inesperado: {e}')\n",
    "        raise\n",
    "\n",
    "data_dir = 'Datos'\n",
    "\n",
    "ultimo_archivo = obtener_ultimo_archivo(data_dir, extension='.json')"
   ]
  },
  {
   "cell_type": "code",
   "execution_count": 54,
   "metadata": {},
   "outputs": [
    {
     "name": "stdout",
     "output_type": "stream",
     "text": [
      "+-------+------+--------------------+--------------------+--------------------+--------+---------+---------+---------------+--------------------+-----------+--------+\n",
      "|address|alerts|   currentConditions|                days|         description|latitude|longitude|queryCost|resolvedAddress|            stations|   timezone|tzoffset|\n",
      "+-------+------+--------------------+--------------------+--------------------+--------+---------+---------+---------------+--------------------+-----------+--------+\n",
      "|Sicilia|    []|{25.0, Partially ...|[{42.1, Partially...|Similar temperatu...| 38.1221|  13.3611|        1|Sicilia, Italia|{{0.0, 54398.0, C...|Europe/Rome|     1.0|\n",
      "+-------+------+--------------------+--------------------+--------------------+--------+---------+---------+---------------+--------------------+-----------+--------+\n",
      "\n"
     ]
    }
   ],
   "source": [
    "df = spark.read.json(ultimo_archivo)\n",
    "df.show()\n"
   ]
  },
  {
   "cell_type": "code",
   "execution_count": 38,
   "metadata": {},
   "outputs": [
    {
     "name": "stdout",
     "output_type": "stream",
     "text": [
      "root\n",
      " |-- address: string (nullable = true)\n",
      " |-- alerts: array (nullable = true)\n",
      " |    |-- element: string (containsNull = true)\n",
      " |-- currentConditions: struct (nullable = true)\n",
      " |    |-- cloudcover: double (nullable = true)\n",
      " |    |-- conditions: string (nullable = true)\n",
      " |    |-- datetime: string (nullable = true)\n",
      " |    |-- datetimeEpoch: long (nullable = true)\n",
      " |    |-- dew: double (nullable = true)\n",
      " |    |-- feelslike: double (nullable = true)\n",
      " |    |-- humidity: double (nullable = true)\n",
      " |    |-- icon: string (nullable = true)\n",
      " |    |-- moonphase: double (nullable = true)\n",
      " |    |-- precip: double (nullable = true)\n",
      " |    |-- precipprob: double (nullable = true)\n",
      " |    |-- preciptype: string (nullable = true)\n",
      " |    |-- pressure: double (nullable = true)\n",
      " |    |-- snow: double (nullable = true)\n",
      " |    |-- snowdepth: double (nullable = true)\n",
      " |    |-- solarenergy: double (nullable = true)\n",
      " |    |-- solarradiation: double (nullable = true)\n",
      " |    |-- source: string (nullable = true)\n",
      " |    |-- stations: array (nullable = true)\n",
      " |    |    |-- element: string (containsNull = true)\n",
      " |    |-- sunrise: string (nullable = true)\n",
      " |    |-- sunriseEpoch: long (nullable = true)\n",
      " |    |-- sunset: string (nullable = true)\n",
      " |    |-- sunsetEpoch: long (nullable = true)\n",
      " |    |-- temp: double (nullable = true)\n",
      " |    |-- uvindex: double (nullable = true)\n",
      " |    |-- visibility: double (nullable = true)\n",
      " |    |-- winddir: double (nullable = true)\n",
      " |    |-- windgust: double (nullable = true)\n",
      " |    |-- windspeed: double (nullable = true)\n",
      " |-- days: array (nullable = true)\n",
      " |    |-- element: struct (containsNull = true)\n",
      " |    |    |-- cloudcover: double (nullable = true)\n",
      " |    |    |-- conditions: string (nullable = true)\n",
      " |    |    |-- datetime: string (nullable = true)\n",
      " |    |    |-- datetimeEpoch: long (nullable = true)\n",
      " |    |    |-- description: string (nullable = true)\n",
      " |    |    |-- dew: double (nullable = true)\n",
      " |    |    |-- feelslike: double (nullable = true)\n",
      " |    |    |-- feelslikemax: double (nullable = true)\n",
      " |    |    |-- feelslikemin: double (nullable = true)\n",
      " |    |    |-- hours: array (nullable = true)\n",
      " |    |    |    |-- element: struct (containsNull = true)\n",
      " |    |    |    |    |-- cloudcover: double (nullable = true)\n",
      " |    |    |    |    |-- conditions: string (nullable = true)\n",
      " |    |    |    |    |-- datetime: string (nullable = true)\n",
      " |    |    |    |    |-- datetimeEpoch: long (nullable = true)\n",
      " |    |    |    |    |-- dew: double (nullable = true)\n",
      " |    |    |    |    |-- feelslike: double (nullable = true)\n",
      " |    |    |    |    |-- humidity: double (nullable = true)\n",
      " |    |    |    |    |-- icon: string (nullable = true)\n",
      " |    |    |    |    |-- precip: double (nullable = true)\n",
      " |    |    |    |    |-- precipprob: double (nullable = true)\n",
      " |    |    |    |    |-- preciptype: string (nullable = true)\n",
      " |    |    |    |    |-- pressure: double (nullable = true)\n",
      " |    |    |    |    |-- severerisk: double (nullable = true)\n",
      " |    |    |    |    |-- snow: double (nullable = true)\n",
      " |    |    |    |    |-- snowdepth: double (nullable = true)\n",
      " |    |    |    |    |-- solarenergy: double (nullable = true)\n",
      " |    |    |    |    |-- solarradiation: double (nullable = true)\n",
      " |    |    |    |    |-- source: string (nullable = true)\n",
      " |    |    |    |    |-- stations: array (nullable = true)\n",
      " |    |    |    |    |    |-- element: string (containsNull = true)\n",
      " |    |    |    |    |-- temp: double (nullable = true)\n",
      " |    |    |    |    |-- uvindex: double (nullable = true)\n",
      " |    |    |    |    |-- visibility: double (nullable = true)\n",
      " |    |    |    |    |-- winddir: double (nullable = true)\n",
      " |    |    |    |    |-- windgust: double (nullable = true)\n",
      " |    |    |    |    |-- windspeed: double (nullable = true)\n",
      " |    |    |-- humidity: double (nullable = true)\n",
      " |    |    |-- icon: string (nullable = true)\n",
      " |    |    |-- moonphase: double (nullable = true)\n",
      " |    |    |-- precip: double (nullable = true)\n",
      " |    |    |-- precipcover: double (nullable = true)\n",
      " |    |    |-- precipprob: double (nullable = true)\n",
      " |    |    |-- preciptype: string (nullable = true)\n",
      " |    |    |-- pressure: double (nullable = true)\n",
      " |    |    |-- severerisk: double (nullable = true)\n",
      " |    |    |-- snow: double (nullable = true)\n",
      " |    |    |-- snowdepth: double (nullable = true)\n",
      " |    |    |-- solarenergy: double (nullable = true)\n",
      " |    |    |-- solarradiation: double (nullable = true)\n",
      " |    |    |-- source: string (nullable = true)\n",
      " |    |    |-- stations: array (nullable = true)\n",
      " |    |    |    |-- element: string (containsNull = true)\n",
      " |    |    |-- sunrise: string (nullable = true)\n",
      " |    |    |-- sunriseEpoch: long (nullable = true)\n",
      " |    |    |-- sunset: string (nullable = true)\n",
      " |    |    |-- sunsetEpoch: long (nullable = true)\n",
      " |    |    |-- temp: double (nullable = true)\n",
      " |    |    |-- tempmax: double (nullable = true)\n",
      " |    |    |-- tempmin: double (nullable = true)\n",
      " |    |    |-- uvindex: double (nullable = true)\n",
      " |    |    |-- visibility: double (nullable = true)\n",
      " |    |    |-- winddir: double (nullable = true)\n",
      " |    |    |-- windgust: double (nullable = true)\n",
      " |    |    |-- windspeed: double (nullable = true)\n",
      " |-- description: string (nullable = true)\n",
      " |-- latitude: double (nullable = true)\n",
      " |-- longitude: double (nullable = true)\n",
      " |-- queryCost: long (nullable = true)\n",
      " |-- resolvedAddress: string (nullable = true)\n",
      " |-- stations: struct (nullable = true)\n",
      " |    |-- C6242: struct (nullable = true)\n",
      " |    |    |-- contribution: double (nullable = true)\n",
      " |    |    |-- distance: double (nullable = true)\n",
      " |    |    |-- id: string (nullable = true)\n",
      " |    |    |-- latitude: double (nullable = true)\n",
      " |    |    |-- longitude: double (nullable = true)\n",
      " |    |    |-- name: string (nullable = true)\n",
      " |    |    |-- quality: long (nullable = true)\n",
      " |    |    |-- useCount: long (nullable = true)\n",
      " |    |-- D2770: struct (nullable = true)\n",
      " |    |    |-- contribution: double (nullable = true)\n",
      " |    |    |-- distance: double (nullable = true)\n",
      " |    |    |-- id: string (nullable = true)\n",
      " |    |    |-- latitude: double (nullable = true)\n",
      " |    |    |-- longitude: double (nullable = true)\n",
      " |    |    |-- name: string (nullable = true)\n",
      " |    |    |-- quality: long (nullable = true)\n",
      " |    |    |-- useCount: long (nullable = true)\n",
      " |    |-- LICJ: struct (nullable = true)\n",
      " |    |    |-- contribution: double (nullable = true)\n",
      " |    |    |-- distance: double (nullable = true)\n",
      " |    |    |-- id: string (nullable = true)\n",
      " |    |    |-- latitude: double (nullable = true)\n",
      " |    |    |-- longitude: double (nullable = true)\n",
      " |    |    |-- name: string (nullable = true)\n",
      " |    |    |-- quality: long (nullable = true)\n",
      " |    |    |-- useCount: long (nullable = true)\n",
      " |    |-- LICT: struct (nullable = true)\n",
      " |    |    |-- contribution: double (nullable = true)\n",
      " |    |    |-- distance: double (nullable = true)\n",
      " |    |    |-- id: string (nullable = true)\n",
      " |    |    |-- latitude: double (nullable = true)\n",
      " |    |    |-- longitude: double (nullable = true)\n",
      " |    |    |-- name: string (nullable = true)\n",
      " |    |    |-- quality: long (nullable = true)\n",
      " |    |    |-- useCount: long (nullable = true)\n",
      " |-- timezone: string (nullable = true)\n",
      " |-- tzoffset: double (nullable = true)\n",
      "\n"
     ]
    }
   ],
   "source": [
    "df.printSchema()"
   ]
  },
  {
   "cell_type": "code",
   "execution_count": 89,
   "metadata": {},
   "outputs": [
    {
     "data": {
      "text/plain": [
       "{'col': DataFrame[col_cloudcover: double, col_conditions: string, col_datetime: string, col_datetimeEpoch: bigint, col_description: string, col_dew: double, col_feelslike: double, col_feelslikemax: double, col_feelslikemin: double, col_hours: array<struct<cloudcover:double,conditions:string,datetime:string,datetimeEpoch:bigint,dew:double,feelslike:double,humidity:double,icon:string,precip:double,precipprob:double,preciptype:string,pressure:double,severerisk:double,snow:double,snowdepth:double,solarenergy:double,solarradiation:double,source:string,stations:array<string>,temp:double,uvindex:double,visibility:double,winddir:double,windgust:double,windspeed:double>>, col_humidity: double, col_icon: string, col_moonphase: double, col_precip: double, col_precipcover: double, col_precipprob: double, col_preciptype: string, col_pressure: double, col_severerisk: double, col_snow: double, col_snowdepth: double, col_solarenergy: double, col_solarradiation: double, col_source: string, col_stations: array<string>, col_sunrise: string, col_sunriseEpoch: bigint, col_sunset: string, col_sunsetEpoch: bigint, col_temp: double, col_tempmax: double, col_tempmin: double, col_uvindex: double, col_visibility: double, col_winddir: double, col_windgust: double, col_windspeed: double]}"
      ]
     },
     "execution_count": 89,
     "metadata": {},
     "output_type": "execute_result"
    }
   ],
   "source": [
    "dataframes_exploded_Days"
   ]
  },
  {
   "cell_type": "code",
   "execution_count": 73,
   "metadata": {},
   "outputs": [
    {
     "data": {
      "text/plain": [
       "{'alerts': DataFrame[alerts_explode: string],\n",
       " 'days': DataFrame[days_explode: struct<cloudcover:double,conditions:string,datetime:string,datetimeEpoch:bigint,description:string,dew:double,feelslike:double,feelslikemax:double,feelslikemin:double,hours:array<struct<cloudcover:double,conditions:string,datetime:string,datetimeEpoch:bigint,dew:double,feelslike:double,humidity:double,icon:string,precip:double,precipprob:double,preciptype:string,pressure:double,severerisk:double,snow:double,snowdepth:double,solarenergy:double,solarradiation:double,source:string,stations:array<string>,temp:double,uvindex:double,visibility:double,winddir:double,windgust:double,windspeed:double>>,humidity:double,icon:string,moonphase:double,precip:double,precipcover:double,precipprob:double,preciptype:string,pressure:double,severerisk:double,snow:double,snowdepth:double,solarenergy:double,solarradiation:double,source:string,stations:array<string>,sunrise:string,sunriseEpoch:bigint,sunset:string,sunsetEpoch:bigint,temp:double,tempmax:double,tempmin:double,uvindex:double,visibility:double,winddir:double,windgust:double,windspeed:double>]}"
      ]
     },
     "execution_count": 73,
     "metadata": {},
     "output_type": "execute_result"
    }
   ],
   "source": [
    "dataframes_exploded_Alerts_Days"
   ]
  },
  {
   "cell_type": "code",
   "execution_count": 78,
   "metadata": {},
   "outputs": [
    {
     "data": {
      "text/plain": [
       "{'days_explode': DataFrame[days_explode_cloudcover: double, days_explode_conditions: string, days_explode_datetime: string, days_explode_datetimeEpoch: bigint, days_explode_description: string, days_explode_dew: double, days_explode_feelslike: double, days_explode_feelslikemax: double, days_explode_feelslikemin: double, days_explode_hours: array<struct<cloudcover:double,conditions:string,datetime:string,datetimeEpoch:bigint,dew:double,feelslike:double,humidity:double,icon:string,precip:double,precipprob:double,preciptype:string,pressure:double,severerisk:double,snow:double,snowdepth:double,solarenergy:double,solarradiation:double,source:string,stations:array<string>,temp:double,uvindex:double,visibility:double,winddir:double,windgust:double,windspeed:double>>, days_explode_humidity: double, days_explode_icon: string, days_explode_moonphase: double, days_explode_precip: double, days_explode_precipcover: double, days_explode_precipprob: double, days_explode_preciptype: string, days_explode_pressure: double, days_explode_severerisk: double, days_explode_snow: double, days_explode_snowdepth: double, days_explode_solarenergy: double, days_explode_solarradiation: double, days_explode_source: string, days_explode_stations: array<string>, days_explode_sunrise: string, days_explode_sunriseEpoch: bigint, days_explode_sunset: string, days_explode_sunsetEpoch: bigint, days_explode_temp: double, days_explode_tempmax: double, days_explode_tempmin: double, days_explode_uvindex: double, days_explode_visibility: double, days_explode_winddir: double, days_explode_windgust: double, days_explode_windspeed: double]}"
      ]
     },
     "execution_count": 78,
     "metadata": {},
     "output_type": "execute_result"
    }
   ],
   "source": [
    "dataframes_exploded_Days"
   ]
  },
  {
   "cell_type": "code",
   "execution_count": 81,
   "metadata": {},
   "outputs": [
    {
     "data": {
      "text/plain": [
       "{'days_explode_hours': DataFrame[days_explode_hours_explode3: struct<cloudcover:double,conditions:string,datetime:string,datetimeEpoch:bigint,dew:double,feelslike:double,humidity:double,icon:string,precip:double,precipprob:double,preciptype:string,pressure:double,severerisk:double,snow:double,snowdepth:double,solarenergy:double,solarradiation:double,source:string,stations:array<string>,temp:double,uvindex:double,visibility:double,winddir:double,windgust:double,windspeed:double>],\n",
       " 'days_explode_stations': DataFrame[days_explode_stations_explode3: string]}"
      ]
     },
     "execution_count": 81,
     "metadata": {},
     "output_type": "execute_result"
    }
   ],
   "source": [
    "dataframes_exploded_DaysHours"
   ]
  },
  {
   "cell_type": "code",
   "execution_count": 83,
   "metadata": {},
   "outputs": [
    {
     "name": "stdout",
     "output_type": "stream",
     "text": [
      "- LLAVE DF: days_explode_hours\n",
      "+---------------------------+\n",
      "|days_explode_hours_explode3|\n",
      "+---------------------------+\n",
      "|       {76.2, Partially ...|\n",
      "|       {100.0, Overcast,...|\n",
      "|       {96.7, Overcast, ...|\n",
      "|       {98.0, Overcast, ...|\n",
      "|       {91.8, Overcast, ...|\n",
      "|       {53.7, Partially ...|\n",
      "|       {85.8, Partially ...|\n",
      "|       {100.0, Overcast,...|\n",
      "|       {99.4, Overcast, ...|\n",
      "|       {100.0, Overcast,...|\n",
      "|       {100.0, Overcast,...|\n",
      "|       {100.0, Overcast,...|\n",
      "|       {25.0, Partially ...|\n",
      "|       {25.0, Partially ...|\n",
      "|       {25.0, Partially ...|\n",
      "|       {25.0, Partially ...|\n",
      "|       {25.0, Partially ...|\n",
      "|       {26.6, Partially ...|\n",
      "|       {100.0, Overcast,...|\n",
      "|       {100.0, Overcast,...|\n",
      "+---------------------------+\n",
      "only showing top 20 rows\n",
      "\n",
      "- LLAVE DF: days_explode_stations\n",
      "+------------------------------+\n",
      "|days_explode_stations_explode3|\n",
      "+------------------------------+\n",
      "|                         C6242|\n",
      "|                          LICJ|\n",
      "|                          LICT|\n",
      "+------------------------------+\n",
      "\n"
     ]
    }
   ],
   "source": [
    "for key, df in dataframes_exploded_DaysHours.items():\n",
    "    print(f'- LLAVE DF: {key}')\n",
    "    df.show()"
   ]
  },
  {
   "cell_type": "code",
   "execution_count": 49,
   "metadata": {},
   "outputs": [
    {
     "name": "stdout",
     "output_type": "stream",
     "text": [
      "- LLAVE DF: currentConditions\n",
      "root\n",
      " |-- currentConditions_cloudcover_desanidado: double (nullable = true)\n",
      " |-- currentConditions_conditions_desanidado: string (nullable = true)\n",
      " |-- currentConditions_datetime_desanidado: string (nullable = true)\n",
      " |-- currentConditions_datetimeEpoch_desanidado: long (nullable = true)\n",
      " |-- currentConditions_dew_desanidado: double (nullable = true)\n",
      " |-- currentConditions_feelslike_desanidado: double (nullable = true)\n",
      " |-- currentConditions_humidity_desanidado: double (nullable = true)\n",
      " |-- currentConditions_icon_desanidado: string (nullable = true)\n",
      " |-- currentConditions_moonphase_desanidado: double (nullable = true)\n",
      " |-- currentConditions_precip_desanidado: double (nullable = true)\n",
      " |-- currentConditions_precipprob_desanidado: double (nullable = true)\n",
      " |-- currentConditions_preciptype_desanidado: string (nullable = true)\n",
      " |-- currentConditions_pressure_desanidado: double (nullable = true)\n",
      " |-- currentConditions_snow_desanidado: double (nullable = true)\n",
      " |-- currentConditions_snowdepth_desanidado: double (nullable = true)\n",
      " |-- currentConditions_solarenergy_desanidado: double (nullable = true)\n",
      " |-- currentConditions_solarradiation_desanidado: double (nullable = true)\n",
      " |-- currentConditions_source_desanidado: string (nullable = true)\n",
      " |-- currentConditions_stations_desanidado: array (nullable = true)\n",
      " |    |-- element: string (containsNull = true)\n",
      " |-- currentConditions_sunrise_desanidado: string (nullable = true)\n",
      " |-- currentConditions_sunriseEpoch_desanidado: long (nullable = true)\n",
      " |-- currentConditions_sunset_desanidado: string (nullable = true)\n",
      " |-- currentConditions_sunsetEpoch_desanidado: long (nullable = true)\n",
      " |-- currentConditions_temp_desanidado: double (nullable = true)\n",
      " |-- currentConditions_uvindex_desanidado: double (nullable = true)\n",
      " |-- currentConditions_visibility_desanidado: double (nullable = true)\n",
      " |-- currentConditions_winddir_desanidado: double (nullable = true)\n",
      " |-- currentConditions_windgust_desanidado: double (nullable = true)\n",
      " |-- currentConditions_windspeed_desanidado: double (nullable = true)\n",
      "\n",
      "- LLAVE DF: stations\n",
      "root\n",
      " |-- stations_C6242_desanidado: struct (nullable = true)\n",
      " |    |-- contribution: double (nullable = true)\n",
      " |    |-- distance: double (nullable = true)\n",
      " |    |-- id: string (nullable = true)\n",
      " |    |-- latitude: double (nullable = true)\n",
      " |    |-- longitude: double (nullable = true)\n",
      " |    |-- name: string (nullable = true)\n",
      " |    |-- quality: long (nullable = true)\n",
      " |    |-- useCount: long (nullable = true)\n",
      " |-- stations_D2770_desanidado: struct (nullable = true)\n",
      " |    |-- contribution: double (nullable = true)\n",
      " |    |-- distance: double (nullable = true)\n",
      " |    |-- id: string (nullable = true)\n",
      " |    |-- latitude: double (nullable = true)\n",
      " |    |-- longitude: double (nullable = true)\n",
      " |    |-- name: string (nullable = true)\n",
      " |    |-- quality: long (nullable = true)\n",
      " |    |-- useCount: long (nullable = true)\n",
      " |-- stations_LICJ_desanidado: struct (nullable = true)\n",
      " |    |-- contribution: double (nullable = true)\n",
      " |    |-- distance: double (nullable = true)\n",
      " |    |-- id: string (nullable = true)\n",
      " |    |-- latitude: double (nullable = true)\n",
      " |    |-- longitude: double (nullable = true)\n",
      " |    |-- name: string (nullable = true)\n",
      " |    |-- quality: long (nullable = true)\n",
      " |    |-- useCount: long (nullable = true)\n",
      " |-- stations_LICT_desanidado: struct (nullable = true)\n",
      " |    |-- contribution: double (nullable = true)\n",
      " |    |-- distance: double (nullable = true)\n",
      " |    |-- id: string (nullable = true)\n",
      " |    |-- latitude: double (nullable = true)\n",
      " |    |-- longitude: double (nullable = true)\n",
      " |    |-- name: string (nullable = true)\n",
      " |    |-- quality: long (nullable = true)\n",
      " |    |-- useCount: long (nullable = true)\n",
      "\n"
     ]
    }
   ],
   "source": [
    "for key, df in dataframes_desanidados.items():\n",
    "    print(f'- LLAVE DF: {key}')\n",
    "    df.printSchema()"
   ]
  },
  {
   "cell_type": "markdown",
   "metadata": {},
   "source": [
    "### PROCESAMIENTO DE DATOS "
   ]
  },
  {
   "cell_type": "code",
   "execution_count": 10,
   "metadata": {},
   "outputs": [],
   "source": [
    "from pyspark.sql import DataFrame\n",
    "from pyspark.sql.functions import array\n",
    "from pyspark.sql.types import StructType, ArrayType, StringType, DoubleType, LongType, FloatType\n",
    "from pyspark.sql.types import StringType, IntegerType, LongType, DoubleType\n",
    "\n",
    "\n",
    "\n",
    "def explotar_columnas_array(df, diccionario_resultado, sufijo_explode=None, columnas_target=None):\n",
    "    \n",
    "    for columna in df.schema:\n",
    "        if isinstance(columna.dataType, ArrayType):\n",
    "            columna_nombre = columna.name\n",
    "            if columnas_target is None or columna_nombre in columnas_target:\n",
    "                diccionario_resultado[columna_nombre] = df.select(explode(col(columna_nombre)).alias(f'{columna_nombre}'))\n",
    "            \n",
    "def desanidar_columnas_struct(df, diccionario_resultado, sufijo_desanidado=None, columnas_target=None):\n",
    "    \n",
    "    for columna in df.schema:\n",
    "        if isinstance(columna.dataType, StructType):\n",
    "            columna_nombre = columna.name\n",
    "            if columnas_target is None or columna_nombre in columnas_target:\n",
    "\n",
    "                campos_struct = [\n",
    "                    col(f'{columna_nombre}.{subfield.name}').alias(f'{columna_nombre}_{subfield.name}')\n",
    "                    for subfield in columna.dataType.fields\n",
    "                ]\n",
    "                diccionario_resultado[columna_nombre] = df.select(*campos_struct)\n",
    "                    \n",
    "def aplicar_dataframe(metodo:str, diccionario_df, diccionario_dfResultado, sufijo=None, columnas_target=None):\n",
    "    \n",
    "    if metodo == 'explotar':\n",
    "        if isinstance(diccionario_df, DataFrame):\n",
    "            explotar_columnas_array(diccionario_df, diccionario_dfResultado, sufijo, columnas_target)\n",
    "        \n",
    "        elif isinstance(diccionario_df, dict):\n",
    "            for key, df in diccionario_df.items():\n",
    "                explotar_columnas_array(df, diccionario_dfResultado, sufijo, columnas_target)\n",
    "    \n",
    "    elif metodo == 'desanidar':\n",
    "        if isinstance(diccionario_df, DataFrame):\n",
    "            desanidar_columnas_struct(diccionario_df, diccionario_dfResultado, sufijo, columnas_target)\n",
    "        \n",
    "        elif isinstance(diccionario_df, dict):\n",
    "            for key, df in diccionario_df.items():\n",
    "                desanidar_columnas_struct(df, diccionario_dfResultado, sufijo, columnas_target)\n",
    "        \n",
    "        \n",
    "\n",
    "\n",
    "# REEMPLAZO VALORES NULOS\n",
    "\n",
    "valores_reemplazo = {\n",
    "    StringType : 'Sin Dato',\n",
    "    IntegerType : 0,\n",
    "    LongType : 0,\n",
    "    DoubleType : 0.0\n",
    "    }\n",
    "\n",
    "\n",
    "def reemplazar_nulos(diccionario_df):\n",
    "    \n",
    "    if isinstance(diccionario_df, dict):\n",
    "        \n",
    "        for key, df in diccionario_df.items():\n",
    "            # Reemplazar según tipo de dato\n",
    "            for columna in df.schema.fields:\n",
    "                tipo = columna.dataType\n",
    "                \n",
    "                if isinstance(tipo, ArrayType) and isinstance(tipo.elementType, StringType):\n",
    "                    df = df.withColumn(\n",
    "                        columna.name,\n",
    "                        when(col(columna.name).isNull(), array(lit('Sin Dato')))\n",
    "                        .otherwise(col(columna.name))\n",
    "                    )\n",
    "                \n",
    "                elif type(tipo) in valores_reemplazo:\n",
    "                    df = df.fillna({columna.name : valores_reemplazo[type(tipo)]})\n",
    "            \n",
    "            diccionario_df[key] = df\n"
   ]
  },
  {
   "cell_type": "code",
   "execution_count": 21,
   "metadata": {},
   "outputs": [],
   "source": [
    "\n",
    "dfExplodedArray_Alerts_Days_1 = {}\n",
    "dfDesanidadoStruct_Days_2 = {}\n",
    "dfExplodeArray_DaysHours_DayStation_3 = {} \n",
    "dfDesanidadoStruct_DaysHours_4 = {} \n",
    "\n",
    "dfDesanidadoStruct_Current_Station_1 = {}\n",
    "\n",
    "dfDesanidadoStruct_Stations_2 = {}\n",
    "\n",
    "\n",
    "columnas_array_1 = ['alerts', 'days']\n",
    "columnas_struct_1 = ['currentConditions', 'stations']\n",
    "\n",
    "columnas_struct_2 = ['days']\n",
    "columnas_array_2 = ['days_hours', 'days_stations']\n",
    "\n",
    "columnas_struct_3 = ['days_hours']\n",
    "\n",
    "columnas_struct_4 = {'stations_C6242', 'stations_D2770', 'stations_LICJ', 'stations_LICT'}\n",
    "\n",
    "\n",
    "aplicar_dataframe('explotar', df, dfExplodedArray_Alerts_Days_1, 'explode1', columnas_array_1)\n",
    "aplicar_dataframe('desanidar', df, dfDesanidadoStruct_Current_Station_1, 'desanidar1', columnas_struct_1)\n",
    "aplicar_dataframe('desanidar', dfExplodedArray_Alerts_Days_1, dfDesanidadoStruct_Days_2, 'desanidar2', columnas_struct_2)\n",
    "aplicar_dataframe('explotar', dfDesanidadoStruct_Days_2, dfExplodeArray_DaysHours_DayStation_3, 'desanidar2', columnas_array_2)\n",
    "aplicar_dataframe('desanidar', dfExplodeArray_DaysHours_DayStation_3, dfDesanidadoStruct_DaysHours_4, 'desanidar2', columnas_struct_3)\n",
    "aplicar_dataframe('desanidar', dfDesanidadoStruct_Current_Station_1, dfDesanidadoStruct_Stations_2, 'desanidar2', columnas_struct_4)\n",
    "\n",
    "\n",
    "reemplazar_nulos(dfExplodedArray_Alerts_Days_1)\n",
    "reemplazar_nulos(dfDesanidadoStruct_Days_2)\n",
    "reemplazar_nulos(dfExplodeArray_DaysHours_DayStation_3)\n",
    "reemplazar_nulos(dfDesanidadoStruct_DaysHours_4)\n",
    "reemplazar_nulos(dfDesanidadoStruct_Current_Station_1)\n",
    "reemplazar_nulos(dfDesanidadoStruct_Stations_2)"
   ]
  },
  {
   "cell_type": "code",
   "execution_count": 25,
   "metadata": {},
   "outputs": [
    {
     "name": "stdout",
     "output_type": "stream",
     "text": [
      "- DATAFRAME currentConditions:\n",
      "+----------------------------+----------------------------+--------------------------+-------------------------------+---------------------+---------------------------+--------------------------+----------------------+---------------------------+------------------------+----------------------------+----------------------------+--------------------------+----------------------+---------------------------+-----------------------------+--------------------------------+------------------------+--------------------------+-------------------------+------------------------------+------------------------+-----------------------------+----------------------+-------------------------+----------------------------+-------------------------+--------------------------+---------------------------+\n",
      "|currentConditions_cloudcover|currentConditions_conditions|currentConditions_datetime|currentConditions_datetimeEpoch|currentConditions_dew|currentConditions_feelslike|currentConditions_humidity|currentConditions_icon|currentConditions_moonphase|currentConditions_precip|currentConditions_precipprob|currentConditions_preciptype|currentConditions_pressure|currentConditions_snow|currentConditions_snowdepth|currentConditions_solarenergy|currentConditions_solarradiation|currentConditions_source|currentConditions_stations|currentConditions_sunrise|currentConditions_sunriseEpoch|currentConditions_sunset|currentConditions_sunsetEpoch|currentConditions_temp|currentConditions_uvindex|currentConditions_visibility|currentConditions_winddir|currentConditions_windgust|currentConditions_windspeed|\n",
      "+----------------------------+----------------------------+--------------------------+-------------------------------+---------------------+---------------------------+--------------------------+----------------------+---------------------------+------------------------+----------------------------+----------------------------+--------------------------+----------------------+---------------------------+-----------------------------+--------------------------------+------------------------+--------------------------+-------------------------+------------------------------+------------------------+-----------------------------+----------------------+-------------------------+----------------------------+-------------------------+--------------------------+---------------------------+\n",
      "|                        88.0|            Partially cloudy|                  13:50:00|                     1738155000|                 47.2|                       56.1|                      72.0|     partly-cloudy-day|                        0.0|                     0.0|                         0.0|                    Sin Dato|                    1016.0|                   0.0|                        0.0|                          0.4|                           115.0|                     obs|      [C6242, LICJ, D2770]|                 07:13:44|                    1738131224|                17:26:13|                   1738167973|                  56.1|                      1.0|                         6.2|                    215.0|                       7.5|                        8.5|\n",
      "+----------------------------+----------------------------+--------------------------+-------------------------------+---------------------+---------------------------+--------------------------+----------------------+---------------------------+------------------------+----------------------------+----------------------------+--------------------------+----------------------+---------------------------+-----------------------------+--------------------------------+------------------------+--------------------------+-------------------------+------------------------------+------------------------+-----------------------------+----------------------+-------------------------+----------------------------+-------------------------+--------------------------+---------------------------+\n",
      "\n",
      "- DATAFRAME stations:\n",
      "+--------------------+--------------------+--------------------+--------------------+\n",
      "|      stations_C6242|      stations_D2770|       stations_LICJ|       stations_LICT|\n",
      "+--------------------+--------------------+--------------------+--------------------+\n",
      "|{0.0, 54398.0, C6...|{0.0, 59323.0, D2...|{0.0, 23748.0, LI...|{0.0, 78795.0, LI...|\n",
      "+--------------------+--------------------+--------------------+--------------------+\n",
      "\n"
     ]
    }
   ],
   "source": [
    "for key, df in dfDesanidadoStruct_Current_Station_1.items():\n",
    "        print(f'- DATAFRAME {key}:')\n",
    "        df.show()\n"
   ]
  },
  {
   "cell_type": "markdown",
   "metadata": {},
   "source": [
    "### GUARDAR ARCHIVOS PROCESADOS"
   ]
  },
  {
   "cell_type": "code",
   "execution_count": 45,
   "metadata": {},
   "outputs": [],
   "source": [
    "# Se extrae cada df de Spark del diccionario donde se encuentran \n",
    "dfSP_currentConditions = dfDesanidadoStruct_Current_Station_1['currentConditions']\n",
    "dfSP_currentConditionsStations = dfDesanidadoStruct_Current_Station_1['stations']\n",
    "\n",
    "# Se elimina la columna \"currentConditions_stations\" ya que al ser Array la procesa erróneamente al convertir a DF de Pandas\n",
    "dfSP_currentConditions = dfSP_currentConditions.drop('currentConditions_stations')"
   ]
  },
  {
   "cell_type": "code",
   "execution_count": null,
   "metadata": {},
   "outputs": [],
   "source": [
    "# El Df de Spark se convierte en DF de Pandas\n",
    "dfPandas_currentConditions = dfSP_currentConditions.toPandas()\n",
    "\n",
    "# Se guarda el DF de Pandas en un archivo CSV\n",
    "dfPandas_currentConditions.to_csv('Datos/Datos_Procesados/CurrentConditions.csv')"
   ]
  }
 ],
 "metadata": {
  "kernelspec": {
   "display_name": "proyecto_venv",
   "language": "python",
   "name": "python3"
  },
  "language_info": {
   "codemirror_mode": {
    "name": "ipython",
    "version": 3
   },
   "file_extension": ".py",
   "mimetype": "text/x-python",
   "name": "python",
   "nbconvert_exporter": "python",
   "pygments_lexer": "ipython3",
   "version": "3.10.2"
  }
 },
 "nbformat": 4,
 "nbformat_minor": 2
}
